{
  "cells": [
    {
      "cell_type": "markdown",
      "metadata": {
        "id": "EeMd4lvQRLA_"
      },
      "source": [
        "# Welcome to the jupyter notebook for Ro-Vibrational Spectrscopy!\n",
        "### Created Fall 2022: J. A. DePaolo-Boisvert"
      ]
    },
    {
      "cell_type": "code",
      "execution_count": 1,
      "metadata": {
        "scrolled": true,
        "id": "Cu2LldsqRLBC"
      },
      "outputs": [],
      "source": [
        "# Importing Packages which are like collections of code that groups of people will find useful\n",
        "# Some packages are widely known and applied while others can be much more niche\n",
        "import numpy as np #invokes numpy commands with np.command()\n",
        "import scipy as sp\n",
        "import scipy.constants as cons #constants is a submodule of scipy that we want easy access to\n",
        "import matplotlib as mp\n",
        "import matplotlib.pyplot as plt\n",
        "%matplotlib inline\n",
        "\n",
        "def plot_data(title, xs, ys, xlabel, ylabel):\n",
        "    plt.clf()\n",
        "    plt.title(title)\n",
        "    plt.xlabel(xlabel)\n",
        "    plt.ylabel(ylabel)\n",
        "    _ = plt.plot(xs, ys)\n",
        "    plt.show()"
      ]
    },
    {
      "cell_type": "code",
      "execution_count": 2,
      "metadata": {
        "id": "8gAvpqL5RLBC"
      },
      "outputs": [],
      "source": [
        "#Defining Constants\n",
        "h = cons.Planck\n",
        "kb = cons.Boltzmann\n",
        "c = cons.c\n",
        "amutokg = 1.66E-27\n",
        "evtojoule = 1.602176634E-19 #Multiplicative conversions\n",
        "temp = 300"
      ]
    },
    {
      "cell_type": "code",
      "execution_count": 3,
      "metadata": {
        "id": "wOTohF6FRLBC"
      },
      "outputs": [],
      "source": [
        "#Define the diatomic molecule here\n",
        "mass1 = 1.007825 *amutokg\n",
        "mass2 = 35.968853 *amutokg\n",
        "#H=1.007825, D=2.014102, Cl(35)=34.968853, and Cl(37)=36.965903\n",
        "\n",
        "#Define bond strength (N/m)\n",
        "k_force = 481"
      ]
    },
    {
      "cell_type": "markdown",
      "metadata": {
        "id": "-ceJS6QRRLBD"
      },
      "source": [
        "### 'From Physics we know that the vibrational frequency of a harmonic' oscillator is\n",
        "$f = \\frac{1}{2*\\pi}*\\sqrt{k/\\mu}$"
      ]
    },
    {
      "cell_type": "code",
      "execution_count": 4,
      "metadata": {
        "colab": {
          "base_uri": "https://localhost:8080/"
        },
        "id": "R3OElVeWRLBD",
        "outputId": "110f8fcd-2891-4830-da6e-dc9409947dc9"
      },
      "outputs": [
        {
          "output_type": "stream",
          "name": "stdout",
          "text": [
            "86526017170478.3 2886.197262857036\n"
          ]
        }
      ],
      "source": [
        "# First a small function to calculate the reduced mass of two bodies\n",
        "# A more efficient method than\n",
        "# def reduced_mass(m1, m2):\n",
        "#     mu = (m1*m2)/(m1+m2)\n",
        "#     return mu\n",
        "# Is with lambda functions\n",
        "\n",
        "reduced_mass = lambda m1, m2: (m1*m2)/(m1+m2)\n",
        "\n",
        "mu = reduced_mass(mass1, mass2)\n",
        "Freq = lambda k_force, mu: np.sqrt(k_force/mu)/(2*cons.pi)\n",
        "freq_vib = Freq(k_force, mu)\n",
        "freq_vib_wvnm = freq_vib/(cons.c*100)\n",
        "print(freq_vib, freq_vib_wvnm)"
      ]
    },
    {
      "cell_type": "markdown",
      "source": [
        "#### From Equation 1 of the text\n",
        "The energy levels of a harmonic oscillator are given by the base frequency and the level number.\n",
        "$$\n",
        "E(\\nu_o, \\nu) = h\\nu_0(\\nu+1/2)\n",
        "$$\n"
      ],
      "metadata": {
        "id": "1bBNq20Rs-uf"
      }
    },
    {
      "cell_type": "code",
      "execution_count": 5,
      "metadata": {
        "colab": {
          "base_uri": "https://localhost:8080/"
        },
        "id": "ExAw5gE3RLBE",
        "outputId": "6569ad05-7add-4dc3-ea46-614944517a17"
      },
      "outputs": [
        {
          "output_type": "stream",
          "name": "stdout",
          "text": [
            "1443.0986314285183\n",
            "4329.295894285555\n",
            "7215.493157142592\n",
            "10101.690419999628\n",
            "12987.887682856664\n",
            "15874.084945713701\n",
            "18760.282208570738\n",
            "21646.479471427774\n",
            "24532.67673428481\n",
            "27418.87399714185\n"
          ]
        }
      ],
      "source": [
        "e_vib_levels = lambda base_freq, level : h*base_freq*(level+0.5)\n",
        "\n",
        "#Lets say we want to see the frequencies of the first 10 energy levels\n",
        "#of this oscillator\n",
        "E_levels = e_vib_levels(freq_vib, np.arange(0,10)) #Note that this calls for the frequency in Hz\n",
        "for entry in E_levels:\n",
        "    print(entry/(cons.h*cons.c*100))"
      ]
    },
    {
      "cell_type": "markdown",
      "source": [
        "#### From Equation 2 of the text\n",
        "$$\n",
        "E(B_e, J) = \\frac{h^2}{8 \\pi^2 I}J(J+1) = B_eJ(J+1)\n",
        "$$"
      ],
      "metadata": {
        "id": "wCIiDkedHdgz"
      }
    },
    {
      "cell_type": "code",
      "source": [
        "# Now to calculate the rotational part\n",
        "# this requires defining the internuclear distance r_nuc\n",
        "r_nuc = 1.27E-10 #1.27 angstroms\n",
        "\n",
        "# Since the reduced mass is known, the moment of inertia is readily calculable\n",
        "Moment = lambda r_nuc : mu*(r_nuc**2)\n",
        "mom_I = Moment(r_nuc)\n",
        "fB_e = lambda r_nuc : ((cons.h**2)/(8*(cons.pi**2)*mu*(r_nuc**2)))\n",
        "e_rot_levels = lambda B_e, level: B_e*(level*(level+1))\n",
        "\n",
        "E_levels = e_rot_levels(fB_e(r_nuc), np.arange(0,10))\n",
        "#Now lets see the first 10 rotational energies\n",
        "for entry in E_levels:\n",
        "    print(entry/(cons.h*cons.c*100))"
      ],
      "metadata": {
        "colab": {
          "base_uri": "https://localhost:8080/"
        },
        "id": "nI8KP72aTtlc",
        "outputId": "11b9a727-cc17-4609-9010-33b524dfda5d"
      },
      "execution_count": 6,
      "outputs": [
        {
          "output_type": "stream",
          "name": "stdout",
          "text": [
            "0.0\n",
            "21.32928194365105\n",
            "63.987845830953155\n",
            "127.97569166190631\n",
            "213.2928194365105\n",
            "319.93922915476577\n",
            "447.91492081667207\n",
            "597.2198944222295\n",
            "767.8541499714379\n",
            "959.8176874642974\n"
          ]
        }
      ]
    },
    {
      "cell_type": "markdown",
      "source": [
        "#### Based on equation 4 on page 417 of the text, The addition of several correctional factors yields a strong expression for the molecule's physical energy levels\n",
        "$$\n",
        " T(\\nu,J) = E_{vib} + E_{rot} + Anharmonicty + Centrifugal + Coupling\n",
        "$$\n",
        "\n",
        "$$\n",
        " T(\\nu,J) = \\nu_e(\\nu+\\frac{1}{2}) + B_eJ(J+1) + \\nu_e\\chi_e(\\nu+\\frac{1}{2})^2 - D_eJ^2(J+1)^2 - \\alpha_e(\\nu+\\frac{1}{2})J(J+1)\n",
        "$$\n",
        "\n",
        "This equation has a total of 5 parameters, thus\n",
        "\n",
        "$$\n",
        "T(\\nu,J) = T(\\nu,J |\\nu_e,\\chi_e,B_e,D_e,\\alpha_e)\n",
        "$$"
      ],
      "metadata": {
        "id": "zmdlKfXQTjjB"
      }
    },
    {
      "cell_type": "code",
      "source": [
        "T_levels = lambda nu, J, nu_e, chi_e, B_e, D_e, a_e : (nu_e*(nu+0.5)) + B_e*J*(J+1) + nu_e*chi_e*(nu+0.5)**2 - D_e * J**2 * (J+1)**2 - a_e*(nu+0.5)*J*(J+1)"
      ],
      "metadata": {
        "id": "xMesp58uaObp"
      },
      "execution_count": 7,
      "outputs": []
    },
    {
      "cell_type": "code",
      "source": [
        "# Retrieve these values for HCl from NIST, and\n",
        "# generate a matrix of the first 2 vibrational levels, by 25 rotational levels\n",
        "# \n",
        "nu_e = 1\n",
        "chi_e = 1\n",
        "B_e = 1\n",
        "D_e = 1\n",
        "a_e = 1\n",
        "nu_max = 10\n",
        "J_max = 10\n",
        "levels = np.array([[T_levels(i, j, nu_e, chi_e, B_e, D_e, a_e) for j in range(J_max)] for i in range(nu_max)])"
      ],
      "metadata": {
        "id": "sTxOyMOkbPyy"
      },
      "execution_count": 8,
      "outputs": []
    },
    {
      "cell_type": "code",
      "source": [
        "levels"
      ],
      "metadata": {
        "colab": {
          "base_uri": "https://localhost:8080/"
        },
        "id": "LUdscI-_cEJL",
        "outputId": "496faaf5-609d-42a4-e9fc-682bc6fba9a4"
      },
      "execution_count": 9,
      "outputs": [
        {
          "output_type": "execute_result",
          "data": {
            "text/plain": [
              "array([[ 7.50000e-01, -2.25000e+00, -3.22500e+01, -1.37250e+02,\n",
              "        -3.89250e+02, -8.84250e+02, -1.74225e+03, -3.10725e+03,\n",
              "        -5.14725e+03, -8.05425e+03],\n",
              "       [ 3.75000e+00, -1.25000e+00, -3.52500e+01, -1.46250e+02,\n",
              "        -4.06250e+02, -9.11250e+02, -1.78125e+03, -3.16025e+03,\n",
              "        -5.21625e+03, -8.14125e+03],\n",
              "       [ 8.75000e+00,  1.75000e+00, -3.62500e+01, -1.53250e+02,\n",
              "        -4.21250e+02, -9.36250e+02, -1.81825e+03, -3.21125e+03,\n",
              "        -5.28325e+03, -8.22625e+03],\n",
              "       [ 1.57500e+01,  6.75000e+00, -3.52500e+01, -1.58250e+02,\n",
              "        -4.34250e+02, -9.59250e+02, -1.85325e+03, -3.26025e+03,\n",
              "        -5.34825e+03, -8.30925e+03],\n",
              "       [ 2.47500e+01,  1.37500e+01, -3.22500e+01, -1.61250e+02,\n",
              "        -4.45250e+02, -9.80250e+02, -1.88625e+03, -3.30725e+03,\n",
              "        -5.41125e+03, -8.39025e+03],\n",
              "       [ 3.57500e+01,  2.27500e+01, -2.72500e+01, -1.62250e+02,\n",
              "        -4.54250e+02, -9.99250e+02, -1.91725e+03, -3.35225e+03,\n",
              "        -5.47225e+03, -8.46925e+03],\n",
              "       [ 4.87500e+01,  3.37500e+01, -2.02500e+01, -1.61250e+02,\n",
              "        -4.61250e+02, -1.01625e+03, -1.94625e+03, -3.39525e+03,\n",
              "        -5.53125e+03, -8.54625e+03],\n",
              "       [ 6.37500e+01,  4.67500e+01, -1.12500e+01, -1.58250e+02,\n",
              "        -4.66250e+02, -1.03125e+03, -1.97325e+03, -3.43625e+03,\n",
              "        -5.58825e+03, -8.62125e+03],\n",
              "       [ 8.07500e+01,  6.17500e+01, -2.50000e-01, -1.53250e+02,\n",
              "        -4.69250e+02, -1.04425e+03, -1.99825e+03, -3.47525e+03,\n",
              "        -5.64325e+03, -8.69425e+03],\n",
              "       [ 9.97500e+01,  7.87500e+01,  1.27500e+01, -1.46250e+02,\n",
              "        -4.70250e+02, -1.05525e+03, -2.02125e+03, -3.51225e+03,\n",
              "        -5.69625e+03, -8.76525e+03]])"
            ]
          },
          "metadata": {},
          "execution_count": 9
        }
      ]
    },
    {
      "cell_type": "markdown",
      "metadata": {
        "id": "USRCsS1uRLBF"
      },
      "source": [
        "## Boltzmann Distribution\n",
        "The boltzmann distribution assigns a probability to an energy level based on the temperature:\n",
        "$$\n",
        "P_i = e^{\\frac{-E_i}{k_b*Temp}}\n",
        "$$"
      ]
    },
    {
      "cell_type": "code",
      "execution_count": 10,
      "metadata": {
        "id": "p2qF8l7xRLBF"
      },
      "outputs": [],
      "source": [
        "boltzmann_prob = lambda energies, temp : np.exp(-1*energies/(cons.Boltzmann*temp))"
      ]
    },
    {
      "cell_type": "markdown",
      "source": [
        "Populate the energy levels that were previously created with Boltzmann probability."
      ],
      "metadata": {
        "id": "bmZrTqRIvnJJ"
      }
    },
    {
      "cell_type": "code",
      "execution_count": 11,
      "metadata": {
        "id": "SV1LSq0YRLBG",
        "outputId": "771a2a5a-a93f-4e0e-c114-7d0d6b691e28",
        "colab": {
          "base_uri": "https://localhost:8080/"
        }
      },
      "outputs": [
        {
          "output_type": "stream",
          "name": "stdout",
          "text": [
            "[[9.96409519e-01 1.01084926e+00 1.16727096e+00 1.93139091e+00\n",
            "  6.46765111e+00 6.94630424e+01 4.25434765e+03 2.96424082e+06\n",
            "  5.25911807e+10 5.96674010e+16]\n",
            " [9.82176049e-01 1.00601291e+00 1.18418679e+00 2.01658145e+00\n",
            "  7.01705552e+00 7.90661438e+01 5.12936788e+03 3.82211856e+06\n",
            "  7.32198911e+10 9.05616757e+16]\n",
            " [9.58903988e-01 9.91642257e-01 1.18987970e+00 2.08543025e+00\n",
            "  7.54045505e+00 8.91377422e+01 6.12532355e+03 4.88122852e+06\n",
            "  1.00967023e+11 1.36140109e+17]\n",
            " [9.27246547e-01 9.68145900e-01 1.18418679e+00 2.13604247e+00\n",
            "  8.02554460e+00 9.95329819e+01 7.24483558e+03 6.17431014e+06\n",
            "  1.37900022e+11 2.02703875e+17]\n",
            " [8.88074989e-01 9.36183345e-01 1.16727096e+00 2.16699751e+00\n",
            "  8.46030041e+00 1.10079568e+02 8.48715920e+03 7.73538716e+06\n",
            "  1.86544924e+11 2.98931941e+17]\n",
            " [8.42438813e-01 8.96634251e-01 1.13961319e+00 2.17741522e+00\n",
            "  8.83347064e+00 1.20581513e+02 9.84760176e+03 9.59864620e+06\n",
            "  2.49940625e+11 4.36633355e+17]\n",
            " [7.91519121e-01 8.50558234e-01 1.10198978e+00 2.16699751e+00\n",
            "  9.13505718e+00 1.30824492e+02 1.13170418e+04 1.17970176e+07\n",
            "  3.31684044e+11 6.31678084e+17]\n",
            " [7.36578041e-01 7.99147778e-01 1.05543619e+00 2.13604247e+00\n",
            "  9.35675988e+00 1.40582642e+02 1.28815961e+04 1.43604743e+07\n",
            "  4.35959979e+11 9.05125965e+17]\n",
            " [6.78907238e-01 7.43677177e-01 1.00119970e+00 2.08543025e+00\n",
            "  9.49235590e+00 1.49626549e+02 1.45224787e+04 1.73140894e+07\n",
            "  5.67548501e+11 1.28456638e+18]\n",
            " [6.19778383e-01 6.85450543e-01 9.40683992e-01 2.01658145e+00\n",
            "  9.53798985e+00 1.57732044e+02 1.62160896e+04 2.06759199e+07\n",
            "  7.31802102e+11 1.80567006e+18]]\n"
          ]
        }
      ],
      "source": [
        "#Convert levels to joules\n",
        "boltzmann_pop = boltzmann_prob(levels*cons.h*cons.c*100, temp)\n",
        "print(boltzmann_pop)"
      ]
    },
    {
      "cell_type": "code",
      "source": [
        "# This can be normalized to sum to one, if desired\n",
        "normalized_boltzmann_pop = boltzmann_pop/np.sum(boltzmann_pop)\n",
        "print(normalized_boltzmann_pop, np.sum(normalized_boltzmann_pop))"
      ],
      "metadata": {
        "colab": {
          "base_uri": "https://localhost:8080/"
        },
        "id": "JM7eYJ2bwUGg",
        "outputId": "943e7e85-a834-47ce-d56e-b6e884cbc2c6"
      },
      "execution_count": 12,
      "outputs": [
        {
          "output_type": "stream",
          "name": "stdout",
          "text": [
            "[[1.70277463e-19 1.72745085e-19 1.99476154e-19 3.30057410e-19\n",
            "  1.10526365e-18 1.18706119e-17 7.27029914e-16 5.06562209e-13\n",
            "  8.98736181e-09 1.01966245e-02]\n",
            " [1.67845091e-19 1.71918597e-19 2.02366917e-19 3.44615711e-19\n",
            "  1.19915195e-18 1.35116959e-17 8.76563035e-16 6.53165833e-13\n",
            "  1.25126237e-08 1.54761794e-02]\n",
            " [1.63868104e-19 1.69462781e-19 2.03339784e-19 3.56381353e-19\n",
            "  1.28859624e-18 1.52328419e-17 1.04676294e-15 8.34158241e-13\n",
            "  1.72543600e-08 2.32651254e-02]\n",
            " [1.58458131e-19 1.65447464e-19 2.02366917e-19 3.65030528e-19\n",
            "  1.37149370e-18 1.70092952e-17 1.23807752e-15 1.05513431e-12\n",
            "  2.35658789e-08 3.46402769e-02]\n",
            " [1.51764062e-19 1.59985350e-19 1.99476154e-19 3.70320467e-19\n",
            "  1.44578957e-18 1.88116123e-17 1.45037950e-15 1.32190839e-12\n",
            "  3.18788570e-08 5.10847917e-02]\n",
            " [1.43965249e-19 1.53226764e-19 1.94749689e-19 3.72100761e-19\n",
            "  1.50956102e-18 2.06063007e-17 1.68286695e-15 1.64032267e-12\n",
            "  4.27126145e-08 7.46167301e-02]\n",
            " [1.35263529e-19 1.45352785e-19 1.88320185e-19 3.70320467e-19\n",
            "  1.56109946e-18 2.23567342e-17 1.93398109e-15 2.01600466e-12\n",
            "  5.66818328e-08 1.07948127e-01]\n",
            " [1.25874591e-19 1.36567198e-19 1.80364593e-19 3.65030528e-19\n",
            "  1.59898647e-18 2.40243146e-17 2.20134941e-15 2.45407645e-12\n",
            "  7.45016562e-08 1.54677922e-01]\n",
            " [1.16019167e-19 1.27087769e-19 1.71096062e-19 3.56381353e-19\n",
            "  1.62215861e-18 2.55698372e-17 2.48176156e-15 2.95882283e-12\n",
            "  9.69889561e-08 2.19520891e-01]\n",
            " [1.05914575e-19 1.17137359e-19 1.60754470e-19 3.44615711e-19\n",
            "  1.62995705e-18 2.69549937e-17 2.77118449e-15 3.53332956e-12\n",
            "  1.25058426e-07 3.08572842e-01]] 1.0\n"
          ]
        }
      ]
    },
    {
      "cell_type": "code",
      "source": [
        "print(np.sum(normalized_boltzmann_pop, 1)) #Distribution of vibrational states (summing across rotations))\n",
        "print(np.sum(normalized_boltzmann_pop, 0)) #Distribution of rotational states (summing across vibrations))"
      ],
      "metadata": {
        "colab": {
          "base_uri": "https://localhost:8080/"
        },
        "id": "WN8PuXjpyuS7",
        "outputId": "fc23e4f6-9160-4bf1-8231-2c6c8d33d3e1"
      },
      "execution_count": 13,
      "outputs": [
        {
          "output_type": "stream",
          "name": "stdout",
          "text": [
            "[0.01019663 0.01547619 0.02326514 0.0346403  0.05108482 0.07461677\n",
            " 0.10794818 0.154678   0.21952099 0.30857297]\n",
            "[1.43924996e-18 1.51893115e-18 1.90231093e-18 3.57485429e-18\n",
            " 1.43320577e-17 1.95948238e-16 1.64099564e-14 1.69734852e-11\n",
            " 4.90142566e-07 9.99999510e-01]\n"
          ]
        }
      ]
    },
    {
      "cell_type": "markdown",
      "metadata": {
        "id": "tcfDPlMnRLBJ"
      },
      "source": [
        "## Selection Rules for spectroscopy\n",
        "#### Calculating energy levels is good, but the key to spectra is the transitions between energy levels\n",
        " Here is a summary of the selection rules: \\\n",
        "$\\Delta \\nu$ = +/-1 and $\\Delta J$ = +/-1 $ \\\n",
        "Any transition must satisfy both of these simultaneously\n"
      ]
    },
    {
      "cell_type": "code",
      "source": [
        "levels"
      ],
      "metadata": {
        "colab": {
          "base_uri": "https://localhost:8080/"
        },
        "id": "TMq9wzz4TBAM",
        "outputId": "9ecaa86d-29b9-44cd-e753-a502ea42d317"
      },
      "execution_count": 14,
      "outputs": [
        {
          "output_type": "execute_result",
          "data": {
            "text/plain": [
              "array([[ 7.50000e-01, -2.25000e+00, -3.22500e+01, -1.37250e+02,\n",
              "        -3.89250e+02, -8.84250e+02, -1.74225e+03, -3.10725e+03,\n",
              "        -5.14725e+03, -8.05425e+03],\n",
              "       [ 3.75000e+00, -1.25000e+00, -3.52500e+01, -1.46250e+02,\n",
              "        -4.06250e+02, -9.11250e+02, -1.78125e+03, -3.16025e+03,\n",
              "        -5.21625e+03, -8.14125e+03],\n",
              "       [ 8.75000e+00,  1.75000e+00, -3.62500e+01, -1.53250e+02,\n",
              "        -4.21250e+02, -9.36250e+02, -1.81825e+03, -3.21125e+03,\n",
              "        -5.28325e+03, -8.22625e+03],\n",
              "       [ 1.57500e+01,  6.75000e+00, -3.52500e+01, -1.58250e+02,\n",
              "        -4.34250e+02, -9.59250e+02, -1.85325e+03, -3.26025e+03,\n",
              "        -5.34825e+03, -8.30925e+03],\n",
              "       [ 2.47500e+01,  1.37500e+01, -3.22500e+01, -1.61250e+02,\n",
              "        -4.45250e+02, -9.80250e+02, -1.88625e+03, -3.30725e+03,\n",
              "        -5.41125e+03, -8.39025e+03],\n",
              "       [ 3.57500e+01,  2.27500e+01, -2.72500e+01, -1.62250e+02,\n",
              "        -4.54250e+02, -9.99250e+02, -1.91725e+03, -3.35225e+03,\n",
              "        -5.47225e+03, -8.46925e+03],\n",
              "       [ 4.87500e+01,  3.37500e+01, -2.02500e+01, -1.61250e+02,\n",
              "        -4.61250e+02, -1.01625e+03, -1.94625e+03, -3.39525e+03,\n",
              "        -5.53125e+03, -8.54625e+03],\n",
              "       [ 6.37500e+01,  4.67500e+01, -1.12500e+01, -1.58250e+02,\n",
              "        -4.66250e+02, -1.03125e+03, -1.97325e+03, -3.43625e+03,\n",
              "        -5.58825e+03, -8.62125e+03],\n",
              "       [ 8.07500e+01,  6.17500e+01, -2.50000e-01, -1.53250e+02,\n",
              "        -4.69250e+02, -1.04425e+03, -1.99825e+03, -3.47525e+03,\n",
              "        -5.64325e+03, -8.69425e+03],\n",
              "       [ 9.97500e+01,  7.87500e+01,  1.27500e+01, -1.46250e+02,\n",
              "        -4.70250e+02, -1.05525e+03, -2.02125e+03, -3.51225e+03,\n",
              "        -5.69625e+03, -8.76525e+03]])"
            ]
          },
          "metadata": {},
          "execution_count": 14
        }
      ]
    },
    {
      "cell_type": "code",
      "execution_count": 15,
      "metadata": {
        "colab": {
          "base_uri": "https://localhost:8080/"
        },
        "id": "6yBtJPyaRLBJ",
        "outputId": "28990db2-3cfc-42cd-9d7d-295918aabc1a"
      },
      "outputs": [
        {
          "output_type": "stream",
          "name": "stdout",
          "text": [
            "[-2.000e+00 -3.300e+01 -1.140e+02 -2.690e+02 -5.220e+02 -8.970e+02\n",
            " -1.418e+03 -2.109e+03 -2.994e+03]\n",
            "[   6.   31.  102.  243.  478.  831. 1326. 1987. 2838.]\n",
            "3.0\n"
          ]
        }
      ],
      "source": [
        "# Typically we are only concerned with vibrational transitions from 0, 1.\n",
        "r_transitions = levels[1,1:] - levels[0,:-1]\n",
        "p_transitions = levels[1,:-1] - levels[0,1:]\n",
        "print(r_transitions)\n",
        "print(p_transitions)\n",
        "print(levels[1,0] - levels[0,0])"
      ]
    },
    {
      "cell_type": "markdown",
      "source": [
        "### Plot the boltzmann probability of the base state, against the transition wavelength"
      ],
      "metadata": {
        "id": "PA007Ir42Uy3"
      }
    },
    {
      "cell_type": "code",
      "source": [
        "r_data = (r_transitions, 1 - normalized_boltzmann_pop[0,:-1])\n",
        "p_data = (p_transitions, 1 - normalized_boltzmann_pop[0,1:])\n",
        "\n",
        "plt.plot(*r_data)\n",
        "plt.plot(*p_data)"
      ],
      "metadata": {
        "colab": {
          "base_uri": "https://localhost:8080/",
          "height": 282
        },
        "id": "2MasxbIz2foS",
        "outputId": "f335fddf-e572-4752-9fae-d71f3c266fc4"
      },
      "execution_count": 16,
      "outputs": [
        {
          "output_type": "execute_result",
          "data": {
            "text/plain": [
              "[<matplotlib.lines.Line2D at 0x7f2646b9b350>]"
            ]
          },
          "metadata": {},
          "execution_count": 16
        },
        {
          "output_type": "display_data",
          "data": {
            "text/plain": [
              "<Figure size 432x288 with 1 Axes>"
            ],
            "image/png": "[encoded data removed]"
          },
          "metadata": {
            "needs_background": "light"
          }
        }
      ]
    },
    {
      "cell_type": "markdown",
      "source": [
        "## Generating A Spectrum"
      ],
      "metadata": {
        "id": "JEPTB-ia4seN"
      }
    },
    {
      "cell_type": "code",
      "source": [
        "levels"
      ],
      "metadata": {
        "colab": {
          "base_uri": "https://localhost:8080/"
        },
        "id": "IbNcdRo6_v0m",
        "outputId": "5d194b85-9353-49ee-b670-91eec74f25ff"
      },
      "execution_count": 17,
      "outputs": [
        {
          "output_type": "execute_result",
          "data": {
            "text/plain": [
              "array([[ 7.50000e-01, -2.25000e+00, -3.22500e+01, -1.37250e+02,\n",
              "        -3.89250e+02, -8.84250e+02, -1.74225e+03, -3.10725e+03,\n",
              "        -5.14725e+03, -8.05425e+03],\n",
              "       [ 3.75000e+00, -1.25000e+00, -3.52500e+01, -1.46250e+02,\n",
              "        -4.06250e+02, -9.11250e+02, -1.78125e+03, -3.16025e+03,\n",
              "        -5.21625e+03, -8.14125e+03],\n",
              "       [ 8.75000e+00,  1.75000e+00, -3.62500e+01, -1.53250e+02,\n",
              "        -4.21250e+02, -9.36250e+02, -1.81825e+03, -3.21125e+03,\n",
              "        -5.28325e+03, -8.22625e+03],\n",
              "       [ 1.57500e+01,  6.75000e+00, -3.52500e+01, -1.58250e+02,\n",
              "        -4.34250e+02, -9.59250e+02, -1.85325e+03, -3.26025e+03,\n",
              "        -5.34825e+03, -8.30925e+03],\n",
              "       [ 2.47500e+01,  1.37500e+01, -3.22500e+01, -1.61250e+02,\n",
              "        -4.45250e+02, -9.80250e+02, -1.88625e+03, -3.30725e+03,\n",
              "        -5.41125e+03, -8.39025e+03],\n",
              "       [ 3.57500e+01,  2.27500e+01, -2.72500e+01, -1.62250e+02,\n",
              "        -4.54250e+02, -9.99250e+02, -1.91725e+03, -3.35225e+03,\n",
              "        -5.47225e+03, -8.46925e+03],\n",
              "       [ 4.87500e+01,  3.37500e+01, -2.02500e+01, -1.61250e+02,\n",
              "        -4.61250e+02, -1.01625e+03, -1.94625e+03, -3.39525e+03,\n",
              "        -5.53125e+03, -8.54625e+03],\n",
              "       [ 6.37500e+01,  4.67500e+01, -1.12500e+01, -1.58250e+02,\n",
              "        -4.66250e+02, -1.03125e+03, -1.97325e+03, -3.43625e+03,\n",
              "        -5.58825e+03, -8.62125e+03],\n",
              "       [ 8.07500e+01,  6.17500e+01, -2.50000e-01, -1.53250e+02,\n",
              "        -4.69250e+02, -1.04425e+03, -1.99825e+03, -3.47525e+03,\n",
              "        -5.64325e+03, -8.69425e+03],\n",
              "       [ 9.97500e+01,  7.87500e+01,  1.27500e+01, -1.46250e+02,\n",
              "        -4.70250e+02, -1.05525e+03, -2.02125e+03, -3.51225e+03,\n",
              "        -5.69625e+03, -8.76525e+03]])"
            ]
          },
          "metadata": {},
          "execution_count": 17
        }
      ]
    },
    {
      "cell_type": "code",
      "source": [
        "plt.clf()\n",
        "plt.scatter(np.arange(J_max), levels[1,:] - levels[0,:])\n",
        "plt.scatter(np.arange(1, J_max), p_transitions)\n",
        "plt.scatter(np.arange(J_max -1), r_transitions)\n",
        "plt.legend(['delJ=0',\n",
        "            'delJ=-1',\n",
        "            'delJ=+1'])\n",
        "plt.xlabel('Base J level')\n",
        "plt.ylabel('Transition Energy (wnvm)')\n",
        "plt.title('Figure M')\n",
        "plt.show()"
      ],
      "metadata": {
        "colab": {
          "base_uri": "https://localhost:8080/",
          "height": 295
        },
        "id": "BRDep-E141Lt",
        "outputId": "968f6154-0a3a-44ac-d37d-9710afa1b028"
      },
      "execution_count": 18,
      "outputs": [
        {
          "output_type": "display_data",
          "data": {
            "text/plain": [
              "<Figure size 432x288 with 1 Axes>"
            ],
            "image/png": "[encoded data removed]"
          },
          "metadata": {
            "needs_background": "light"
          }
        }
      ]
    },
    {
      "cell_type": "markdown",
      "source": [
        "### Description of Generated Spectrum\n",
        "A spectrum will be generated as a sum of gaussians centered at each transition wavelength, with relative heights of the boltzmann weight of their base level.\n",
        "$$\n",
        "f(λ) = W_b e^\\frac{-(λ - λ_0)^2}{2\\sigma^2}\n",
        "$$\n",
        "With σ as an empirical bandwidth parameter."
      ],
      "metadata": {
        "id": "UxiVJ0v6NJAd"
      }
    },
    {
      "cell_type": "code",
      "source": [
        "#Define a Gaussian\n",
        "Gaussian = lambda x, a, b, c : a*np.exp(-1*(x-b)**2 / (2*c**2))"
      ],
      "metadata": {
        "id": "HtuTptLaPczh"
      },
      "execution_count": 19,
      "outputs": []
    },
    {
      "cell_type": "code",
      "source": [
        "#Define Coefficients\n",
        "r_coeffs = normalized_boltzmann_pop[0,:-1] # Values of base levels where dJ += 1 is possible\n",
        "p_coeffs = normalized_boltzmann_pop[0,1:] # Values of base levels where dJ -= 1 is possible"
      ],
      "metadata": {
        "id": "nax-dyW6Uk1b"
      },
      "execution_count": 20,
      "outputs": []
    },
    {
      "cell_type": "code",
      "source": [
        "r_transitions[::-1], r_coeffs"
      ],
      "metadata": {
        "colab": {
          "base_uri": "https://localhost:8080/"
        },
        "id": "Tg6KFZlY4WmC",
        "outputId": "f123b594-6ad4-466f-d57e-ef02869c1529"
      },
      "execution_count": 21,
      "outputs": [
        {
          "output_type": "execute_result",
          "data": {
            "text/plain": [
              "(array([-2.994e+03, -2.109e+03, -1.418e+03, -8.970e+02, -5.220e+02,\n",
              "        -2.690e+02, -1.140e+02, -3.300e+01, -2.000e+00]),\n",
              " array([1.70277463e-19, 1.72745085e-19, 1.99476154e-19, 3.30057410e-19,\n",
              "        1.10526365e-18, 1.18706119e-17, 7.27029914e-16, 5.06562209e-13,\n",
              "        8.98736181e-09]))"
            ]
          },
          "metadata": {},
          "execution_count": 21
        }
      ]
    },
    {
      "cell_type": "code",
      "source": [
        "p_transitions[::-1], p_coeffs"
      ],
      "metadata": {
        "colab": {
          "base_uri": "https://localhost:8080/"
        },
        "id": "1yOOpmbNCLIu",
        "outputId": "ba9bd993-7f88-4ddd-cd1c-b87fb55ae156"
      },
      "execution_count": 22,
      "outputs": [
        {
          "output_type": "execute_result",
          "data": {
            "text/plain": [
              "(array([2838., 1987., 1326.,  831.,  478.,  243.,  102.,   31.,    6.]),\n",
              " array([1.72745085e-19, 1.99476154e-19, 3.30057410e-19, 1.10526365e-18,\n",
              "        1.18706119e-17, 7.27029914e-16, 5.06562209e-13, 8.98736181e-09,\n",
              "        1.01966245e-02]))"
            ]
          },
          "metadata": {},
          "execution_count": 22
        }
      ]
    },
    {
      "cell_type": "code",
      "source": [
        "domain = np.linspace(2800,3300,1000)\n",
        "sigma = 2.5\n",
        "\n",
        "r_excitation_data = np.array([[Gaussian(domain, W_b, l_c, sigma) for W_b in r_coeffs] for l_c in r_transitions])\n",
        "p_excitation_data = np.array([[Gaussian(domain, W_b, l_c, sigma) for W_b in p_coeffs] for l_c in p_transitions])\n",
        "\n",
        "excitation_data = []\n",
        "for i in range(r_excitation_data.shape[0]):\n",
        "  excitation_data.append(r_excitation_data[i,i,:])\n",
        "  excitation_data.append(p_excitation_data[i,i,:])\n",
        "excitation_data = np.array(excitation_data)\n",
        "\n",
        "plot_data('TITLE HERE', domain, excitation_data.sum(0), 'Wavelength (wvnm)', 'Qeff')\n",
        "plot_data('TITLE HERE', domain, 1 - excitation_data.sum(0), 'Wavelength (wvnm)', 'Abs')"
      ],
      "metadata": {
        "colab": {
          "base_uri": "https://localhost:8080/",
          "height": 573
        },
        "id": "Q0YfYRroQTVZ",
        "outputId": "31017bc0-9f19-471d-a415-0991b915412c"
      },
      "execution_count": 23,
      "outputs": [
        {
          "output_type": "display_data",
          "data": {
            "text/plain": [
              "<Figure size 432x288 with 1 Axes>"
            ],
            "image/png": "[encoded data removed]"
          },
          "metadata": {
            "needs_background": "light"
          }
        },
        {
          "output_type": "display_data",
          "data": {
            "text/plain": [
              "<Figure size 432x288 with 1 Axes>"
            ],
            "image/png": "[encoded data removed]"
          },
          "metadata": {
            "needs_background": "light"
          }
        }
      ]
    },
    {
      "cell_type": "markdown",
      "source": [
        "## Graph Real Data"
      ],
      "metadata": {
        "id": "dxMWjn2gfyXw"
      }
    },
    {
      "cell_type": "code",
      "source": [
        "#Obtain jcampdx from NIST, a common IR file format at\n",
        "# https://webbook.nist.gov/cgi/cbook.cgi?JCAMP=C7647010&Index=0&Type=IR\n",
        "# Save it to your google drive and point to it here\n",
        "from IPython.testing import test\n",
        "from google.colab import drive\n",
        "drive.mount('/content/drive')\n",
        "##################################################################\n",
        "hcl_jcamp = '/content/drive/MyDrive/7647-01-0-IR.jdx'\n",
        "#%cat $hcl_jcamp"
      ],
      "metadata": {
        "colab": {
          "base_uri": "https://localhost:8080/"
        },
        "id": "O7lI8x0Cf2qF",
        "outputId": "630b273f-5ba2-4684-bb5f-7303be45435b"
      },
      "execution_count": 24,
      "outputs": [
        {
          "output_type": "stream",
          "name": "stdout",
          "text": [
            "Drive already mounted at /content/drive; to attempt to forcibly remount, call drive.mount(\"/content/drive\", force_remount=True).\n"
          ]
        }
      ]
    },
    {
      "cell_type": "code",
      "source": [
        "def get_jcamp_data(jcamp_fn):\n",
        "  with open(jcamp_fn, 'r') as w:\n",
        "    lines = [line[:-1] if line.endswith('\\n') else line for line in w.readlines()]\n",
        "  #print(lines)\n",
        "  data_start = lines.index(\"##XYDATA=(X++(Y..Y))\") + 1\n",
        "  data_end = lines.index(\"##END=\")\n",
        "  #Data is averaged some number of times\n",
        "  data_lines = lines[data_start:data_end]\n",
        "  data = np.array([[float(element) for element in line.split(' ')] for line in data_lines])\n",
        "  x_data = data[:,0]\n",
        "  y_data = np.average(data[:,1:],1)\n",
        "  return x_data, y_data\n",
        "\n",
        "\n",
        "plt.clf()\n",
        "#Now you plot data from NIST below this comment\n",
        "\n",
        "plt.show()"
      ],
      "metadata": {
        "colab": {
          "base_uri": "https://localhost:8080/",
          "height": 34
        },
        "id": "H_60RMD6584D",
        "outputId": "4af65520-8ef7-4e27-b037-5c3959949530"
      },
      "execution_count": 25,
      "outputs": [
        {
          "output_type": "display_data",
          "data": {
            "text/plain": [
              "<Figure size 432x288 with 0 Axes>"
            ]
          },
          "metadata": {}
        }
      ]
    },
    {
      "cell_type": "markdown",
      "source": [
        "## Questions"
      ],
      "metadata": {
        "id": "rMwcOsgBw9QN"
      }
    },
    {
      "cell_type": "markdown",
      "source": [
        "### Edit this text cell to write your answers to the following questions below each question.\n",
        "\n",
        "#### Explain the purpose of prefixes like np. and cons.\n",
        "\n",
        "#### Explain the meaning/contribution of each term in the equation for T (from equation 4).\n",
        "\n",
        "#### How does the boltzmann population differ between rotational and vibrational energy levels?  Are either well dispersed/isolated?\n",
        "\n",
        "#### How do we know if we are using enough boltzmann levels to describe the molecular energy landscape?\n",
        "\n",
        "#### Describe the selection rules for spectroscopy and the R and P branches.  Which is higher energy?  Why is there a \"forbidden transition\" between the two branches?\n",
        "\n",
        "#### This is, principally, a single molecule analysis.  What effects or interactions that we have not described here can occur to a molecule present in a bulk/ensemble?\n",
        "\n",
        "#### Describe and explain the behavior of Figure M.\n",
        "\n",
        "#### How well does this analysis fit/mimick real spectroscopic data?\n",
        "\n",
        "#### At what pressure of HCl was the spectrum from the NIST link taken?  What parameters were used in cell 8 from NIST?\n",
        "\n",
        "#### What (in your opinion) was the best assumption made in this analysis?\n",
        "\n",
        "#### What (in your opinion) was the worst assumption made in this analysis?\n"
      ],
      "metadata": {
        "id": "LvyF-OOSxT9O"
      }
    }
  ],
  "metadata": {
    "kernelspec": {
      "display_name": "Python 3",
      "language": "python",
      "name": "python3"
    },
    "language_info": {
      "codemirror_mode": {
        "name": "ipython",
        "version": 3
      },
      "file_extension": ".py",
      "mimetype": "text/x-python",
      "name": "python",
      "nbconvert_exporter": "python",
      "pygments_lexer": "ipython3",
      "version": "3.8.5"
    },
    "colab": {
      "provenance": [],
      "collapsed_sections": []
    }
  },
  "nbformat": 4,
  "nbformat_minor": 0
}