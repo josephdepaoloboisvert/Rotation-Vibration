{
  "cells": [
    {
      "cell_type": "markdown",
      "metadata": {
        "id": "EeMd4lvQRLA_"
      },
      "source": [
        "# Welcome to the jupyter notebook for Ro-Vibrational Spectrscopy!\n",
        "### Created Fall 2022: J. A. DePaolo-Boisvert"
      ]
    },
    {
      "cell_type": "code",
      "execution_count": 1,
      "metadata": {
        "scrolled": true,
        "id": "Cu2LldsqRLBC"
      },
      "outputs": [],
      "source": [
        "# Importing Packages which are like collections of code that groups of people will find useful\n",
        "# Some packages are widely known and applied while others can be much more niche\n",
        "import numpy as np #invokes numpy commands with np.command()\n",
        "import scipy as sp\n",
        "import scipy.constants as cons #constants is a submodule of scipy that we want easy access to\n",
        "import matplotlib as mp\n",
        "import matplotlib.pyplot as plt\n",
        "%matplotlib inline\n",
        "\n",
        "def plot_data(title, xs, ys, xlabel, ylabel):\n",
        "    plt.clf()\n",
        "    plt.title(title)\n",
        "    plt.xlabel(xlabel)\n",
        "    plt.ylabel(ylabel)\n",
        "    _ = plt.plot(xs, ys)\n",
        "    plt.show()"
      ]
    },
    {
      "cell_type": "code",
      "execution_count": 2,
      "metadata": {
        "id": "8gAvpqL5RLBC"
      },
      "outputs": [],
      "source": [
        "#Defining Constants\n",
        "h = cons.Planck\n",
        "kb = cons.Boltzmann\n",
        "c = cons.c\n",
        "amutokg = 1.66E-27\n",
        "evtojoule = 1.602176634E-19 #Multiplicative conversions\n",
        "temp = 300"
      ]
    },
    {
      "cell_type": "code",
      "execution_count": 3,
      "metadata": {
        "id": "wOTohF6FRLBC"
      },
      "outputs": [],
      "source": [
        "#Define the diatomic molecule here\n",
        "mass1 = 1.007825 *amutokg\n",
        "mass2 = 34.968853 *amutokg\n",
        "#H=1.007825, D=2.014102, Cl(35)=34.968853, and Cl(37)=36.965903\n",
        "\n",
        "#Define bond strength (N/m)\n",
        "k_force = 481"
      ]
    },
    {
      "cell_type": "markdown",
      "metadata": {
        "id": "-ceJS6QRRLBD"
      },
      "source": [
        "### 'From Physics we know that the vibrational frequency of a harmonic' oscillator is\n",
        "$f = \\frac{1}{2*\\pi}*\\sqrt{k/\\mu}$"
      ]
    },
    {
      "cell_type": "code",
      "execution_count": 4,
      "metadata": {
        "colab": {
          "base_uri": "https://localhost:8080/"
        },
        "id": "R3OElVeWRLBD",
        "outputId": "ee5db54c-4877-4ad7-91bb-a6e0432ef576"
      },
      "outputs": [
        {
          "output_type": "stream",
          "name": "stdout",
          "text": [
            "86559730990621.44 2887.3218348482083\n"
          ]
        }
      ],
      "source": [
        "# First a small function to calculate the reduced mass of two bodies\n",
        "# A more efficient method than\n",
        "# def reduced_mass(m1, m2):\n",
        "#     mu = (m1*m2)/(m1+m2)\n",
        "#     return mu\n",
        "# Is with lambda functions\n",
        "\n",
        "reduced_mass = lambda m1, m2: (m1*m2)/(m1+m2)\n",
        "mu = reduced_mass(mass1, mass2)\n",
        "\n",
        "Freq = lambda k_force, mu: np.sqrt(k_force/mu)/(2*cons.pi)\n",
        "freq_vib = Freq(k_force, mu)\n",
        "freq_vib_wvnm = freq_vib/(cons.c*100)\n",
        "print(freq_vib, freq_vib_wvnm)"
      ]
    },
    {
      "cell_type": "markdown",
      "source": [
        "#### From Equation 1 of the text\n",
        "The energy levels of a harmonic oscillator are given by the base frequency and the level number.\n",
        "$$\n",
        "E(\\nu_o, \\nu) = h\\nu_0(\\nu+1/2)\n",
        "$$\n"
      ],
      "metadata": {
        "id": "1bBNq20Rs-uf"
      }
    },
    {
      "cell_type": "code",
      "execution_count": 5,
      "metadata": {
        "colab": {
          "base_uri": "https://localhost:8080/"
        },
        "id": "ExAw5gE3RLBE",
        "outputId": "8541d4ea-4270-411a-eb5d-c165bc98fb04"
      },
      "outputs": [
        {
          "output_type": "stream",
          "name": "stdout",
          "text": [
            "1443.6609174241044\n",
            "4330.982752272313\n",
            "7218.304587120521\n",
            "10105.62642196873\n",
            "12992.948256816937\n",
            "15880.270091665148\n",
            "18767.591926513356\n",
            "21654.913761361564\n",
            "24542.23559620977\n",
            "27429.557431057983\n"
          ]
        }
      ],
      "source": [
        "e_vib_levels = lambda base_freq, level : h*base_freq*(level+0.5)\n",
        "\n",
        "#Lets say we want to see the frequencies of the first 10 energy levels\n",
        "#of this oscillator\n",
        "E_levels = e_vib_levels(freq_vib, np.arange(0,10)) #Note that this calls for the frequency in Hz\n",
        "for entry in E_levels:\n",
        "    print(entry/(cons.h*cons.c*100))"
      ]
    },
    {
      "cell_type": "markdown",
      "source": [
        "#### From Equation 2 of the text\n",
        "$$\n",
        "E(B_e, J) = \\frac{h^2}{8 \\pi^2 I}J(J+1) = B_eJ(J+1)\n",
        "$$"
      ],
      "metadata": {
        "id": "wCIiDkedHdgz"
      }
    },
    {
      "cell_type": "code",
      "source": [
        "# Now to calculate the rotational part\n",
        "# this requires defining the internuclear distance r_nuc\n",
        "r_nuc = 1.27E-10 #1.27 angstroms\n",
        "\n",
        "# Since the reduced mass is known, the moment of inertia is readily calculable\n",
        "Moment = lambda r_nuc : mu*(r_nuc**2)\n",
        "mom_I = Moment(r_nuc)\n",
        "\n",
        "fB_e = lambda r_nuc : ((cons.h**2)/(8*(cons.pi**2)*mu*(r_nuc**2)))\n",
        "\n",
        "e_rot_levels = lambda B_e, level: B_e*(level*(level+1))\n",
        "\n",
        "E_levels = e_rot_levels(fB_e(r_nuc), np.arange(0,10))\n",
        "#Now lets see the first 10 rotational energies\n",
        "for entry in E_levels:\n",
        "    print(entry/(cons.h*cons.c*100))"
      ],
      "metadata": {
        "colab": {
          "base_uri": "https://localhost:8080/"
        },
        "id": "nI8KP72aTtlc",
        "outputId": "1236e994-cd05-4a0f-f685-aa2ae68f05d8"
      },
      "execution_count": 6,
      "outputs": [
        {
          "output_type": "stream",
          "name": "stdout",
          "text": [
            "0.0\n",
            "21.345906577291533\n",
            "64.03771973187459\n",
            "128.07543946374918\n",
            "213.45906577291532\n",
            "320.188598659373\n",
            "448.2640381231222\n",
            "597.6853841641629\n",
            "768.4526367824951\n",
            "960.565795978119\n"
          ]
        }
      ]
    },
    {
      "cell_type": "markdown",
      "source": [
        "#### Based on equation 4 on page 417 of the text, The addition of several correctional factors yields a strong expression for the molecule's physical energy levels\n",
        "$$\n",
        " T(\\nu,J) = E_{vib} + E_{rot} + Anharmonicty + Centrifugal + Coupling\n",
        "$$\n",
        "\n",
        "$$\n",
        " T(\\nu,J) = \\nu_e(\\nu+\\frac{1}{2}) + B_eJ(J+1) - \\nu_e\\chi_e(\\nu+\\frac{1}{2})^2 - D_eJ^2(J+1)^2 - \\alpha_e(\\nu+\\frac{1}{2})J(J+1)\n",
        "$$\n",
        "\n",
        "This equation has a total of 5 parameters, thus\n",
        "\n",
        "$$\n",
        "T(\\nu,J) = T(\\nu,J |\\nu_e,\\chi_e,B_e,D_e,\\alpha_e)\n",
        "$$"
      ],
      "metadata": {
        "id": "zmdlKfXQTjjB"
      }
    },
    {
      "cell_type": "code",
      "source": [
        "T_levels = lambda nu, J, nu_e, chi_e, B_e, D_e, a_e : (nu_e*(nu+0.5)) + B_e*J*(J+1) - nu_e*chi_e*(nu+0.5)**2 - D_e * J**2 * (J+1)**2 - a_e*(nu+0.5)*J*(J+1)"
      ],
      "metadata": {
        "id": "xMesp58uaObp"
      },
      "execution_count": 7,
      "outputs": []
    },
    {
      "cell_type": "code",
      "source": [
        "# Retrieve these values for HCl from NIST, and\n",
        "# generate a matrix of the first 2 vibrational levels, by 25 rotational levels\n",
        "# \n",
        "nu_e = 1\n",
        "chi_e = 1\n",
        "B_e = 1\n",
        "D_e = 1\n",
        "a_e = 1\n",
        "nu_max = 1\n",
        "J_max = 1\n",
        "levels = np.array([[T_levels(i, j, nu_e, chi_e, B_e, D_e, a_e) for j in range(J_max)] for i in range(nu_max)])"
      ],
      "metadata": {
        "id": "sTxOyMOkbPyy"
      },
      "execution_count": 8,
      "outputs": []
    },
    {
      "cell_type": "code",
      "source": [
        "levels"
      ],
      "metadata": {
        "colab": {
          "base_uri": "https://localhost:8080/"
        },
        "id": "LUdscI-_cEJL",
        "outputId": "126d9542-73f6-4b51-bf80-b41e652e21e2"
      },
      "execution_count": 9,
      "outputs": [
        {
          "output_type": "execute_result",
          "data": {
            "text/plain": [
              "array([[ 1482.24525   ,  1503.12192224,  1544.86250016,  1607.44145064,\n",
              "         1690.820474  ,  1794.948504  ,  1919.76170784,  2065.18348616,\n",
              "         2231.12447304,  2417.482536  ,  2624.142776  ,  2850.97752744,\n",
              "         3097.84635816,  3364.59606944,  3651.060696  ,  3957.061506  ,\n",
              "         4282.40700104,  4626.89291616,  4990.30221984,  5372.405114  ,\n",
              "         5772.959034  ,  6191.70864864,  6628.38586016,  7082.70980424,\n",
              "         7554.38685   ],\n",
              "       [ 4367.50725   ,  4387.76952224,  4428.28130016,  4489.01705064,\n",
              "         4569.938474  ,  4670.994504  ,  4792.12130784,  4933.24228616,\n",
              "         5094.26807304,  5275.096536  ,  5475.612776  ,  5695.68912744,\n",
              "         5935.18515816,  6193.94766944,  6471.810696  ,  6768.595506  ,\n",
              "         7084.11060104,  7418.15171616,  7770.50181984,  8140.931114  ,\n",
              "         8529.197034  ,  8935.04424864,  9358.20466016,  9798.39740424,\n",
              "        10255.32885   ]])"
            ]
          },
          "metadata": {},
          "execution_count": 9
        }
      ]
    },
    {
      "cell_type": "markdown",
      "metadata": {
        "id": "USRCsS1uRLBF"
      },
      "source": [
        "## Boltzmann Distribution\n",
        "The boltzmann distribution assigns a probability to an energy level based on the temperature:\n",
        "$$\n",
        "P_i = e^{\\frac{-E_i}{k_b*Temp}}\n",
        "$$"
      ]
    },
    {
      "cell_type": "code",
      "execution_count": 10,
      "metadata": {
        "id": "p2qF8l7xRLBF"
      },
      "outputs": [],
      "source": [
        "boltzmann_prob = lambda energies, temp : np.exp(-1*energies/(cons.Boltzmann*temp))"
      ]
    },
    {
      "cell_type": "markdown",
      "source": [
        "Populate the energy levels that were previously created with Boltzmann probability."
      ],
      "metadata": {
        "id": "bmZrTqRIvnJJ"
      }
    },
    {
      "cell_type": "code",
      "execution_count": 11,
      "metadata": {
        "id": "SV1LSq0YRLBG",
        "outputId": "2efd1c0a-c135-485b-d357-68f272b0fadd",
        "colab": {
          "base_uri": "https://localhost:8080/"
        }
      },
      "outputs": [
        {
          "output_type": "stream",
          "name": "stdout",
          "text": [
            "[[8.17929857e-04 7.40002580e-04 6.05751041e-04 4.48695846e-04\n",
            "  3.00806104e-04 1.82559451e-04 1.00331667e-04 4.99513600e-05\n",
            "  2.25381527e-05 9.22069711e-06 3.42233840e-06 1.15308629e-06\n",
            "  3.52917200e-07 9.81917711e-08 2.48550299e-08 5.72878717e-09\n",
            "  1.20342532e-09 2.30626451e-10 4.03631119e-11 6.45839133e-12\n",
            "  9.45874426e-13 1.26953254e-13 1.56355738e-14 1.76940985e-15\n",
            "  1.84246511e-16]\n",
            " [8.00145007e-10 7.26048397e-10 5.97841286e-10 4.46768843e-10\n",
            "  3.03065339e-10 1.86660506e-10 1.04415348e-10 5.30678531e-11\n",
            "  2.45154634e-11 1.02991844e-11 3.93694198e-12 1.37017032e-12\n",
            "  4.34452158e-13 1.25597302e-13 3.31310567e-14 7.98140162e-15\n",
            "  1.75756260e-15 3.54124235e-16 6.53530334e-17 1.10590988e-17\n",
            "  1.71799873e-18 2.45305263e-19 3.22351891e-20 3.90371324e-21\n",
            "  4.36276186e-22]]\n"
          ]
        }
      ],
      "source": [
        "#Convert levels to joules\n",
        "boltzmann_pop = boltzmann_prob(levels*cons.h*cons.c*100, temp)\n",
        "print(boltzmann_pop)"
      ]
    },
    {
      "cell_type": "code",
      "source": [
        "# This can be normalized to sum to one, if desired\n",
        "normalized_boltzmann_pop = boltzmann_pop/np.sum(boltzmann_pop)\n",
        "print(normalized_boltzmann_pop, np.sum(normalized_boltzmann_pop))"
      ],
      "metadata": {
        "colab": {
          "base_uri": "https://localhost:8080/"
        },
        "id": "JM7eYJ2bwUGg",
        "outputId": "57f96f9d-3709-43af-d740-ed1d3aa0ad27"
      },
      "execution_count": 12,
      "outputs": [
        {
          "output_type": "stream",
          "name": "stdout",
          "text": [
            "[[2.49152475e-01 2.25414774e-01 1.84519944e-01 1.36678811e-01\n",
            "  9.16295996e-02 5.56100730e-02 3.05623802e-02 1.52158585e-02\n",
            "  6.86542554e-03 2.80874880e-03 1.04249047e-03 3.51245648e-04\n",
            "  1.07503343e-04 2.99105389e-05 7.57117762e-06 1.74506590e-06\n",
            "  3.66579597e-07 7.02519301e-08 1.22951487e-08 1.96731318e-09\n",
            "  2.88126118e-10 3.86716749e-11 4.76280684e-12 5.38986125e-13\n",
            "  5.61239743e-14]\n",
            " [2.43734970e-07 2.21164142e-07 1.82110525e-07 1.36091820e-07\n",
            "  9.23177931e-08 5.68593097e-08 3.18063244e-08 1.61651844e-08\n",
            "  7.46774107e-09 3.13727059e-09 1.19924567e-09 4.17372375e-10\n",
            "  1.32339992e-10 3.82586334e-11 1.00921671e-11 2.43124267e-12\n",
            "  5.35377290e-13 1.07871022e-13 1.99074161e-14 3.36875078e-15\n",
            "  5.23325604e-16 7.47232942e-17 9.81927373e-18 1.18912375e-18\n",
            "  1.32895615e-19]] 1.0\n"
          ]
        }
      ]
    },
    {
      "cell_type": "code",
      "source": [
        "print(np.sum(normalized_boltzmann_pop, 1)) #Distribution of vibrational states (summing across rotations))\n",
        "print(np.sum(normalized_boltzmann_pop, 0)) #Distribution of rotational states (summing across vibrations))"
      ],
      "metadata": {
        "colab": {
          "base_uri": "https://localhost:8080/"
        },
        "id": "WN8PuXjpyuS7",
        "outputId": "0556e4a8-1b01-4c40-c1cf-b79887cae394"
      },
      "execution_count": 13,
      "outputs": [
        {
          "output_type": "stream",
          "name": "stdout",
          "text": [
            "[9.99999007e-01 9.92655488e-07]\n",
            "[2.49152719e-01 2.25414996e-01 1.84520126e-01 1.36678947e-01\n",
            " 9.16296920e-02 5.56101298e-02 3.05624120e-02 1.52158747e-02\n",
            " 6.86543301e-03 2.80875194e-03 1.04249167e-03 3.51246065e-04\n",
            " 1.07503475e-04 2.99105771e-05 7.57118771e-06 1.74506833e-06\n",
            " 3.66580133e-07 7.02520380e-08 1.22951686e-08 1.96731655e-09\n",
            " 2.88126641e-10 3.86717496e-11 4.76281666e-12 5.38987314e-13\n",
            " 5.61241072e-14]\n"
          ]
        }
      ]
    },
    {
      "cell_type": "markdown",
      "metadata": {
        "id": "tcfDPlMnRLBJ"
      },
      "source": [
        "## Selection Rules for spectroscopy\n",
        "#### Calculating energy levels is good, but the key to spectra is the transitions between energy levels\n",
        " Here is a summary of the selection rules: \\\n",
        "$\\Delta \\nu$ = +/-1 and $\\Delta J$ = +/-1 $ \\\n",
        "Any transition must satisfy both of these simultaneously\n"
      ]
    },
    {
      "cell_type": "code",
      "source": [
        "levels"
      ],
      "metadata": {
        "colab": {
          "base_uri": "https://localhost:8080/"
        },
        "id": "TMq9wzz4TBAM",
        "outputId": "a62b80c1-59a0-42cb-b246-3f9aed51731f"
      },
      "execution_count": 14,
      "outputs": [
        {
          "output_type": "execute_result",
          "data": {
            "text/plain": [
              "array([[ 1482.24525   ,  1503.12192224,  1544.86250016,  1607.44145064,\n",
              "         1690.820474  ,  1794.948504  ,  1919.76170784,  2065.18348616,\n",
              "         2231.12447304,  2417.482536  ,  2624.142776  ,  2850.97752744,\n",
              "         3097.84635816,  3364.59606944,  3651.060696  ,  3957.061506  ,\n",
              "         4282.40700104,  4626.89291616,  4990.30221984,  5372.405114  ,\n",
              "         5772.959034  ,  6191.70864864,  6628.38586016,  7082.70980424,\n",
              "         7554.38685   ],\n",
              "       [ 4367.50725   ,  4387.76952224,  4428.28130016,  4489.01705064,\n",
              "         4569.938474  ,  4670.994504  ,  4792.12130784,  4933.24228616,\n",
              "         5094.26807304,  5275.096536  ,  5475.612776  ,  5695.68912744,\n",
              "         5935.18515816,  6193.94766944,  6471.810696  ,  6768.595506  ,\n",
              "         7084.11060104,  7418.15171616,  7770.50181984,  8140.931114  ,\n",
              "         8529.197034  ,  8935.04424864,  9358.20466016,  9798.39740424,\n",
              "        10255.32885   ]])"
            ]
          },
          "metadata": {},
          "execution_count": 14
        }
      ]
    },
    {
      "cell_type": "code",
      "execution_count": 15,
      "metadata": {
        "colab": {
          "base_uri": "https://localhost:8080/"
        },
        "id": "6yBtJPyaRLBJ",
        "outputId": "1157d11c-e52a-4360-e0bf-93a2f1903117"
      },
      "outputs": [
        {
          "output_type": "stream",
          "name": "stdout",
          "text": [
            "[2905.52427224 2925.15937792 2944.15455048 2962.49702336 2980.17403\n",
            " 2997.17280384 3013.48057832 3029.08458688 3043.97206296 3058.13024\n",
            " 3071.54635144 3084.20763072 3096.10131128 3107.21462656 3117.53481\n",
            " 3127.04909504 3135.74471512 3143.60890368 3150.62889416 3156.79192\n",
            " 3162.08521464 3166.49601152 3170.01154408 3172.61904576]\n",
            "[2864.38532776 2842.90702208 2820.83984952 2798.19657664 2774.98997\n",
            " 2751.23279616 2726.93782168 2702.11781312 2676.78553704 2650.95376\n",
            " 2624.63524856 2597.84276928 2570.58908872 2542.88697344 2514.74919\n",
            " 2486.18850496 2457.21768488 2427.84949632 2398.09670584 2367.97208\n",
            " 2337.48838536 2306.65838848 2275.49485592 2244.01055424]\n",
            "2885.2620000000006\n"
          ]
        }
      ],
      "source": [
        "# Typically we are only concerned with vibrational transitions from 0, 1.\n",
        "r_transitions = levels[1,1:] - levels[0,:-1]\n",
        "p_transitions = levels[1,:-1] - levels[0,1:]\n",
        "print(r_transitions)\n",
        "print(p_transitions)\n",
        "print(levels[1,0] - levels[0,0])"
      ]
    },
    {
      "cell_type": "markdown",
      "source": [
        "### Plot the boltzmann probability of the base state, against the transition wavelength"
      ],
      "metadata": {
        "id": "PA007Ir42Uy3"
      }
    },
    {
      "cell_type": "code",
      "source": [
        "r_data = (r_transitions, 1 - normalized_boltzmann_pop[0,:-1])\n",
        "p_data = (p_transitions, 1 - normalized_boltzmann_pop[0,1:])\n",
        "\n",
        "plt.plot(*r_data)\n",
        "plt.plot(*p_data)"
      ],
      "metadata": {
        "colab": {
          "base_uri": "https://localhost:8080/",
          "height": 282
        },
        "id": "2MasxbIz2foS",
        "outputId": "80f04b92-7051-400d-e3be-d0f6bfe9f63c"
      },
      "execution_count": 16,
      "outputs": [
        {
          "output_type": "execute_result",
          "data": {
            "text/plain": [
              "[<matplotlib.lines.Line2D at 0x7fac036b8410>]"
            ]
          },
          "metadata": {},
          "execution_count": 16
        },
        {
          "output_type": "display_data",
          "data": {
            "text/plain": [
              "<Figure size 432x288 with 1 Axes>"
            ],
            "image/png": "[encoded data removed]"
          },
          "metadata": {
            "needs_background": "light"
          }
        }
      ]
    },
    {
      "cell_type": "markdown",
      "source": [
        "## Generating A Spectrum"
      ],
      "metadata": {
        "id": "JEPTB-ia4seN"
      }
    },
    {
      "cell_type": "code",
      "source": [
        "levels"
      ],
      "metadata": {
        "colab": {
          "base_uri": "https://localhost:8080/"
        },
        "id": "IbNcdRo6_v0m",
        "outputId": "7b1825d4-5c63-4de0-d079-2575b0136ff5"
      },
      "execution_count": 17,
      "outputs": [
        {
          "output_type": "execute_result",
          "data": {
            "text/plain": [
              "array([[ 1482.24525   ,  1503.12192224,  1544.86250016,  1607.44145064,\n",
              "         1690.820474  ,  1794.948504  ,  1919.76170784,  2065.18348616,\n",
              "         2231.12447304,  2417.482536  ,  2624.142776  ,  2850.97752744,\n",
              "         3097.84635816,  3364.59606944,  3651.060696  ,  3957.061506  ,\n",
              "         4282.40700104,  4626.89291616,  4990.30221984,  5372.405114  ,\n",
              "         5772.959034  ,  6191.70864864,  6628.38586016,  7082.70980424,\n",
              "         7554.38685   ],\n",
              "       [ 4367.50725   ,  4387.76952224,  4428.28130016,  4489.01705064,\n",
              "         4569.938474  ,  4670.994504  ,  4792.12130784,  4933.24228616,\n",
              "         5094.26807304,  5275.096536  ,  5475.612776  ,  5695.68912744,\n",
              "         5935.18515816,  6193.94766944,  6471.810696  ,  6768.595506  ,\n",
              "         7084.11060104,  7418.15171616,  7770.50181984,  8140.931114  ,\n",
              "         8529.197034  ,  8935.04424864,  9358.20466016,  9798.39740424,\n",
              "        10255.32885   ]])"
            ]
          },
          "metadata": {},
          "execution_count": 17
        }
      ]
    },
    {
      "cell_type": "code",
      "source": [
        "plt.clf()\n",
        "plt.scatter(np.arange(J_max), levels[1,:] - levels[0,:])\n",
        "plt.scatter(np.arange(1, J_max), p_transitions)\n",
        "plt.scatter(np.arange(J_max -1), r_transitions)\n",
        "plt.legend(['delJ=0',\n",
        "            'delJ=-1',\n",
        "            'delJ=+1'])\n",
        "plt.xlabel('Base J level')\n",
        "plt.ylabel('Transition Energy (wnvm)')\n",
        "plt.title('Figure M')\n",
        "plt.show()"
      ],
      "metadata": {
        "colab": {
          "base_uri": "https://localhost:8080/",
          "height": 295
        },
        "id": "BRDep-E141Lt",
        "outputId": "72325181-2289-42ab-ec90-36a27900367a"
      },
      "execution_count": 18,
      "outputs": [
        {
          "output_type": "display_data",
          "data": {
            "text/plain": [
              "<Figure size 432x288 with 1 Axes>"
            ],
            "image/png": "[encoded data removed]"
          },
          "metadata": {
            "needs_background": "light"
          }
        }
      ]
    },
    {
      "cell_type": "markdown",
      "source": [
        "### Description of Generated Spectrum\n",
        "A spectrum will be generated as a sum of gaussians centered at each transition wavelength, with relative heights of the boltzmann weight of their base level.\n",
        "$$\n",
        "f(λ) = W_b e^\\frac{-(λ - λ_0)^2}{2\\sigma^2}\n",
        "$$\n",
        "With σ as an empirical bandwidth parameter."
      ],
      "metadata": {
        "id": "UxiVJ0v6NJAd"
      }
    },
    {
      "cell_type": "code",
      "source": [
        "#Define a Gaussian\n",
        "Gaussian = lambda x, a, b, c : a*np.exp(-1*(x-b)**2 / (2*c**2))"
      ],
      "metadata": {
        "id": "HtuTptLaPczh"
      },
      "execution_count": 19,
      "outputs": []
    },
    {
      "cell_type": "code",
      "source": [
        "#Define Coefficients\n",
        "r_coeffs = normalized_boltzmann_pop[0,:-1] # Values of base levels where dJ += 1 is possible\n",
        "p_coeffs = normalized_boltzmann_pop[0,1:] # Values of base levels where dJ -= 1 is possible"
      ],
      "metadata": {
        "id": "nax-dyW6Uk1b"
      },
      "execution_count": 20,
      "outputs": []
    },
    {
      "cell_type": "code",
      "source": [
        "r_transitions, r_coeffs"
      ],
      "metadata": {
        "colab": {
          "base_uri": "https://localhost:8080/"
        },
        "id": "Tg6KFZlY4WmC",
        "outputId": "3659b618-5c24-4f4a-826d-2c48183961ee"
      },
      "execution_count": 21,
      "outputs": [
        {
          "output_type": "execute_result",
          "data": {
            "text/plain": [
              "(array([2905.52427224, 2925.15937792, 2944.15455048, 2962.49702336,\n",
              "        2980.17403   , 2997.17280384, 3013.48057832, 3029.08458688,\n",
              "        3043.97206296, 3058.13024   , 3071.54635144, 3084.20763072,\n",
              "        3096.10131128, 3107.21462656, 3117.53481   , 3127.04909504,\n",
              "        3135.74471512, 3143.60890368, 3150.62889416, 3156.79192   ,\n",
              "        3162.08521464, 3166.49601152, 3170.01154408, 3172.61904576]),\n",
              " array([2.49152475e-01, 2.25414774e-01, 1.84519944e-01, 1.36678811e-01,\n",
              "        9.16295996e-02, 5.56100730e-02, 3.05623802e-02, 1.52158585e-02,\n",
              "        6.86542554e-03, 2.80874880e-03, 1.04249047e-03, 3.51245648e-04,\n",
              "        1.07503343e-04, 2.99105389e-05, 7.57117762e-06, 1.74506590e-06,\n",
              "        3.66579597e-07, 7.02519301e-08, 1.22951487e-08, 1.96731318e-09,\n",
              "        2.88126118e-10, 3.86716749e-11, 4.76280684e-12, 5.38986125e-13]))"
            ]
          },
          "metadata": {},
          "execution_count": 21
        }
      ]
    },
    {
      "cell_type": "code",
      "source": [
        "p_transitions, p_coeffs"
      ],
      "metadata": {
        "colab": {
          "base_uri": "https://localhost:8080/"
        },
        "id": "1yOOpmbNCLIu",
        "outputId": "25ce3830-4070-4f28-fc21-88e5da721aac"
      },
      "execution_count": 22,
      "outputs": [
        {
          "output_type": "execute_result",
          "data": {
            "text/plain": [
              "(array([2864.38532776, 2842.90702208, 2820.83984952, 2798.19657664,\n",
              "        2774.98997   , 2751.23279616, 2726.93782168, 2702.11781312,\n",
              "        2676.78553704, 2650.95376   , 2624.63524856, 2597.84276928,\n",
              "        2570.58908872, 2542.88697344, 2514.74919   , 2486.18850496,\n",
              "        2457.21768488, 2427.84949632, 2398.09670584, 2367.97208   ,\n",
              "        2337.48838536, 2306.65838848, 2275.49485592, 2244.01055424]),\n",
              " array([2.25414774e-01, 1.84519944e-01, 1.36678811e-01, 9.16295996e-02,\n",
              "        5.56100730e-02, 3.05623802e-02, 1.52158585e-02, 6.86542554e-03,\n",
              "        2.80874880e-03, 1.04249047e-03, 3.51245648e-04, 1.07503343e-04,\n",
              "        2.99105389e-05, 7.57117762e-06, 1.74506590e-06, 3.66579597e-07,\n",
              "        7.02519301e-08, 1.22951487e-08, 1.96731318e-09, 2.88126118e-10,\n",
              "        3.86716749e-11, 4.76280684e-12, 5.38986125e-13, 5.61239743e-14]))"
            ]
          },
          "metadata": {},
          "execution_count": 22
        }
      ]
    },
    {
      "cell_type": "code",
      "source": [
        "domain = np.linspace(2500,3200,1000)\n",
        "sigma = 2.5\n",
        "\n",
        "r_excitation_data = np.array([[Gaussian(domain, W_b, l_c, sigma) for W_b in r_coeffs] for l_c in r_transitions])\n",
        "p_excitation_data = np.array([[Gaussian(domain, W_b, l_c, sigma) for W_b in p_coeffs] for l_c in p_transitions])\n",
        "\n",
        "excitation_data = []\n",
        "for i in range(r_excitation_data.shape[0]):\n",
        "  excitation_data.append(r_excitation_data[i,i,:])\n",
        "  excitation_data.append(p_excitation_data[i,i,:])\n",
        "excitation_data = np.array(excitation_data)\n",
        "\n",
        "plot_data('TITLE HERE', domain, excitation_data.sum(0), 'Wavelength (wvnm)', 'Qeff')\n",
        "plot_data('TITLE HERE', domain, 1 - excitation_data.sum(0), 'Wavelength (wvnm)', 'Abs')"
      ],
      "metadata": {
        "colab": {
          "base_uri": "https://localhost:8080/",
          "height": 573
        },
        "id": "Q0YfYRroQTVZ",
        "outputId": "07be7766-0045-4056-9953-c5c0098c6c99"
      },
      "execution_count": 23,
      "outputs": [
        {
          "output_type": "display_data",
          "data": {
            "text/plain": [
              "<Figure size 432x288 with 1 Axes>"
            ],
            "image/png": "[encoded data removed]"
          },
          "metadata": {
            "needs_background": "light"
          }
        },
        {
          "output_type": "display_data",
          "data": {
            "text/plain": [
              "<Figure size 432x288 with 1 Axes>"
            ],
            "image/png": "[encoded data removed]"
          },
          "metadata": {
            "needs_background": "light"
          }
        }
      ]
    },
    {
      "cell_type": "markdown",
      "source": [
        "## Graph Real Data"
      ],
      "metadata": {
        "id": "dxMWjn2gfyXw"
      }
    },
    {
      "cell_type": "code",
      "source": [
        "#Obtain jcampdx from NIST, a common IR file format at\n",
        "# https://webbook.nist.gov/cgi/cbook.cgi?JCAMP=C7647010&Index=0&Type=IR\n",
        "# Save it to your google drive and point to it here\n",
        "from IPython.testing import test\n",
        "from google.colab import drive\n",
        "drive.mount('/content/drive')\n",
        "##################################################################\n",
        "hcl_jcamp = '/content/drive/MyDrive/7647-01-0-IR.jdx'\n",
        "#%cat $hcl_jcamp"
      ],
      "metadata": {
        "colab": {
          "base_uri": "https://localhost:8080/"
        },
        "id": "O7lI8x0Cf2qF",
        "outputId": "19bfdac0-4b21-4ff4-94b9-9302d1d854fd"
      },
      "execution_count": 24,
      "outputs": [
        {
          "output_type": "stream",
          "name": "stdout",
          "text": [
            "Mounted at /content/drive\n"
          ]
        }
      ]
    },
    {
      "cell_type": "code",
      "source": [
        "def get_jcamp_data(jcamp_fn):\n",
        "  with open(jcamp_fn, 'r') as w:\n",
        "    lines = [line[:-1] if line.endswith('\\n') else line for line in w.readlines()]\n",
        "  #print(lines)\n",
        "  data_start = lines.index(\"##XYDATA=(X++(Y..Y))\") + 1\n",
        "  data_end = lines.index(\"##END=\")\n",
        "  #Data is averaged some number of times\n",
        "  data_lines = lines[data_start:data_end]\n",
        "  data = np.array([[float(element) for element in line.split(' ')] for line in data_lines])\n",
        "  x_data = data[:,0]\n",
        "  y_data = np.average(data[:,1:],1)\n",
        "  return x_data, y_data\n",
        "\n",
        "plt.clf()\n",
        "#Now you plot data from NIST below this comment\n",
        "\n",
        "plt.show()"
      ],
      "metadata": {
        "colab": {
          "base_uri": "https://localhost:8080/",
          "height": 312
        },
        "id": "H_60RMD6584D",
        "outputId": "d6056f45-b08f-42f3-8cc7-b107d1a06b4b"
      },
      "execution_count": 30,
      "outputs": [
        {
          "output_type": "stream",
          "name": "stdout",
          "text": [
            "(708,)\n"
          ]
        },
        {
          "output_type": "display_data",
          "data": {
            "text/plain": [
              "<Figure size 432x288 with 1 Axes>"
            ],
            "image/png": "[encoded data removed]"
          },
          "metadata": {
            "needs_background": "light"
          }
        }
      ]
    },
    {
      "cell_type": "code",
      "source": [
        "plt.clf()\n",
        "#Now you plot data from NIST below this comment\n",
        "xs, ys = get_jcamp_data(hcl_jcamp)\n",
        "plt.plot(xs[450:570], ys[450:570])\n",
        "plt.plot(domain, 1 - excitation_data.sum(0))\n",
        "plt.title('Title')\n",
        "plt.xlabel('XLABEL')\n",
        "plt.ylabel('YLabel')\n",
        "plt.show()"
      ],
      "metadata": {
        "colab": {
          "base_uri": "https://localhost:8080/",
          "height": 295
        },
        "id": "ZuhWUG8qdIAP",
        "outputId": "c84351a7-2ccf-46f1-cf4a-ed474ace6e4d"
      },
      "execution_count": 27,
      "outputs": [
        {
          "output_type": "display_data",
          "data": {
            "text/plain": [
              "<Figure size 432x288 with 1 Axes>"
            ],
            "image/png": "[encoded data removed]"
          },
          "metadata": {
            "needs_background": "light"
          }
        }
      ]
    },
    {
      "cell_type": "markdown",
      "source": [
        "## Questions"
      ],
      "metadata": {
        "id": "rMwcOsgBw9QN"
      }
    },
    {
      "cell_type": "markdown",
      "source": [
        "### Edit this text cell to write your answers to the following questions below each question.\n",
        "\n",
        "#### Explain the purpose of prefixes like np. and cons.\n",
        "\n",
        "#### Explain the meaning/contribution of each term in the equation for T (from equation 4).\n",
        "\n",
        "#### How does the boltzmann population differ between rotational and vibrational energy levels?  Are either well dispersed/isolated?\n",
        "\n",
        "#### How do we know if we are using enough boltzmann levels to describe the molecular energy landscape?\n",
        "\n",
        "#### Describe the selection rules for spectroscopy and the R and P branches.  Which is higher energy?  Why is there a \"forbidden transition\" between the two branches?\n",
        "\n",
        "#### This is, principally, a single molecule analysis.  What effects or interactions that we have not described here can occur to a molecule present in a bulk/ensemble?\n",
        "\n",
        "#### Describe and explain the behavior of Figure M.\n",
        "\n",
        "#### How well does this analysis fit/mimick real spectroscopic data?\n",
        "\n",
        "#### At what pressure of HCl was the spectrum from the NIST link taken?  What parameters were used in cell 8 of this notebook?\n",
        "\n",
        "#### What (in your opinion) was the best assumption made in this analysis?\n",
        "\n",
        "#### What (in your opinion) was the worst assumption made in this analysis?\n"
      ],
      "metadata": {
        "id": "LvyF-OOSxT9O"
      }
    },
    {
      "cell_type": "code",
      "source": [],
      "metadata": {
        "id": "GvR4YwfUiRJs"
      },
      "execution_count": null,
      "outputs": []
    },
    {
      "cell_type": "code",
      "source": [],
      "metadata": {
        "id": "pRPiBj_YPy90"
      },
      "execution_count": null,
      "outputs": []
    }
  ],
  "metadata": {
    "kernelspec": {
      "display_name": "Python 3",
      "language": "python",
      "name": "python3"
    },
    "language_info": {
      "codemirror_mode": {
        "name": "ipython",
        "version": 3
      },
      "file_extension": ".py",
      "mimetype": "text/x-python",
      "name": "python",
      "nbconvert_exporter": "python",
      "pygments_lexer": "ipython3",
      "version": "3.8.5"
    },
    "colab": {
      "provenance": []
    }
  },
  "nbformat": 4,
  "nbformat_minor": 0
}