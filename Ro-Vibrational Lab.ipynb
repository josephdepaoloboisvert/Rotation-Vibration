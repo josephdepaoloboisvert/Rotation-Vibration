{
 "cells": [
  {
   "cell_type": "markdown",
   "metadata": {
    "id": "EeMd4lvQRLA_"
   },
   "source": [
    "# Welcome to the jupyter notebook for Ro-Vibrational Spectrscopy!\n",
    "### Created Fall 2022: J. A. DePaolo-Boisvert"
   ]
  },
  {
   "cell_type": "code",
   "execution_count": 1,
   "metadata": {
    "id": "Cu2LldsqRLBC",
    "scrolled": true
   },
   "outputs": [],
   "source": [
    "# Importing Packages which are like collections of code that groups of people will find useful\n",
    "# Some packages are widely known and applied while others can be much more niche\n",
    "import numpy as np #invokes numpy commands with jnp.command()\n",
    "import jax.numpy as jnp\n",
    "import scipy as sp\n",
    "import scipy.constants as cons #constants is a submodule of scipy that we want easy access to\n",
    "import matplotlib as mp\n",
    "import matplotlib.pyplot as plt\n",
    "%matplotlib inline\n",
    "\n",
    "def plot_data(title, xs, ys, xlabel, ylabel):\n",
    "    plt.clf()\n",
    "    plt.title(title)\n",
    "    plt.xlabel(xlabel)\n",
    "    plt.ylabel(ylabel)\n",
    "    _ = plt.plot(xs, ys)\n",
    "    plt.show()"
   ]
  },
  {
   "cell_type": "code",
   "execution_count": 2,
   "metadata": {
    "id": "8gAvpqL5RLBC"
   },
   "outputs": [],
   "source": [
    "#Defining Constants\n",
    "h = cons.Planck\n",
    "kb = cons.Boltzmann\n",
    "c = cons.c\n",
    "amutokg = 1.66E-27\n",
    "evtojoule = 1.602176634E-19 #Multiplicative conversions\n",
    "\n",
    "#Define the diatomic molecule here\n",
    "mass1 = 1.007825 *amutokg\n",
    "mass2 = 34.968853 *amutokg\n",
    "#H=1.007825, D=2.014102, Cl(35)=34.968853, and Cl(37)=36.965903\n",
    "\n",
    "#Define bond strength (N/m) and temperature (K)\n",
    "temp = 300\n",
    "k_force = 481"
   ]
  },
  {
   "cell_type": "markdown",
   "metadata": {
    "id": "-ceJS6QRRLBD"
   },
   "source": [
    "### 'From Physics we know that the vibrational frequency of a harmonic' oscillator is\n",
    "$f = \\frac{1}{2*\\pi}*\\sqrt{k/\\mu}$"
   ]
  },
  {
   "cell_type": "code",
   "execution_count": 3,
   "metadata": {
    "colab": {
     "base_uri": "https://localhost:8080/"
    },
    "id": "R3OElVeWRLBD",
    "outputId": "8c44b336-be5f-4feb-a4a5-8b60d8cbefea"
   },
   "outputs": [
    {
     "name": "stdout",
     "output_type": "stream",
     "text": [
      "86559720000000.0 2887.3213\n"
     ]
    }
   ],
   "source": [
    "#Reduced Mass\n",
    "reduced_mass = lambda m1, m2: (m1*m2)/(m1+m2)\n",
    "#Frequency Function\n",
    "Freq = lambda k_force, mu: jnp.sqrt(k_force/mu)/(2*cons.pi)\n",
    "#Obtain Frequency\n",
    "freq_vib = Freq(k_force, reduced_mass(mass1, mass2))\n",
    "#Convert Units\n",
    "freq_vib_wvnm = freq_vib/(cons.c*100)\n",
    "print(freq_vib, freq_vib_wvnm)"
   ]
  },
  {
   "cell_type": "markdown",
   "metadata": {
    "id": "1bBNq20Rs-uf"
   },
   "source": [
    "#### From Equation 1 of the text\n",
    "The energy levels of a harmonic oscillator are given by the base frequency and the level number.\n",
    "$$\n",
    "E(\\nu_o, \\nu) = h\\nu_0(\\nu+1/2)\n",
    "$$\n"
   ]
  },
  {
   "cell_type": "code",
   "execution_count": 4,
   "metadata": {
    "colab": {
     "base_uri": "https://localhost:8080/"
    },
    "id": "ExAw5gE3RLBE",
    "outputId": "4feab409-ed9b-4a28-bead-e13e7f5ca71a"
   },
   "outputs": [
    {
     "name": "stdout",
     "output_type": "stream",
     "text": [
      "1443.6609\n",
      "4330.983\n",
      "7218.3047\n",
      "10105.627\n",
      "12992.949\n",
      "15880.2705\n",
      "18767.592\n",
      "21654.914\n",
      "24542.234\n",
      "27429.559\n"
     ]
    }
   ],
   "source": [
    "e_vib_levels = lambda base_freq, level : h*base_freq*(level+0.5)\n",
    "\n",
    "#Lets say we want to see the frequencies of the first 10 energy levels\n",
    "#of this oscillator\n",
    "E_levels = e_vib_levels(freq_vib, jnp.arange(0,10)) #Note that this calls for the frequency in Hz\n",
    "for entry in E_levels:\n",
    "    print(entry/(cons.h*cons.c*100))"
   ]
  },
  {
   "cell_type": "markdown",
   "metadata": {
    "id": "wCIiDkedHdgz"
   },
   "source": [
    "#### From Equation 2 of the text\n",
    "$$\n",
    "E(B_e, J) = \\frac{h^2}{8 \\pi^2 I}J(J+1) = B_eJ(J+1)\n",
    "$$"
   ]
  },
  {
   "cell_type": "code",
   "execution_count": 5,
   "metadata": {
    "colab": {
     "base_uri": "https://localhost:8080/"
    },
    "id": "nI8KP72aTtlc",
    "outputId": "2c9fe2f2-f607-45c6-dde1-89d37199cded"
   },
   "outputs": [
    {
     "name": "stdout",
     "output_type": "stream",
     "text": [
      "0.0\n",
      "21.345907\n",
      "64.03773\n",
      "128.07545\n",
      "213.45909\n",
      "320.18863\n",
      "448.26407\n",
      "597.6854\n",
      "768.4527\n",
      "960.56586\n"
     ]
    }
   ],
   "source": [
    "#Calculate the rotational part requires defining the internuclear distance r_nuc\n",
    "r_nuc = 1.27E-10 #1.27 angstroms\n",
    "mu = reduced_mass(mass1, mass2)\n",
    "# Since the reduced mass is known, the moment of inertia is readily calculable\n",
    "Moment = lambda r_nuc, mu: mu*(r_nuc**2)\n",
    "mom_I = Moment(r_nuc, mu)\n",
    "\n",
    "fB_e = lambda r_nuc : ((cons.h**2)/(8*(cons.pi**2)*mu*(r_nuc**2)))\n",
    "\n",
    "e_rot_levels = lambda B_e, level: B_e*(level*(level+1))\n",
    "\n",
    "E_levels = e_rot_levels(fB_e(r_nuc), jnp.arange(0,10))\n",
    "#Now lets see the first 10 rotational energies\n",
    "for entry in E_levels:\n",
    "    print(entry/(cons.h*cons.c*100))"
   ]
  },
  {
   "cell_type": "markdown",
   "metadata": {
    "id": "zmdlKfXQTjjB"
   },
   "source": [
    "#### Based on equation 4 on page 417 of the text, The addition of several correctional factors yields a strong expression for the molecule's physical energy levels\n",
    "$$\n",
    " T(\\nu,J) = E_{vib} + E_{rot} + Anharmonicty + Centrifugal + Coupling\n",
    "$$\n",
    "\n",
    "$$\n",
    " T(\\nu,J) = \\nu_e(\\nu+\\frac{1}{2}) + B_eJ(J+1) - \\nu_e\\chi_e(\\nu+\\frac{1}{2})^2 - D_eJ^2(J+1)^2 - \\alpha_e(\\nu+\\frac{1}{2})J(J+1)\n",
    "$$\n",
    "\n",
    "This equation has a total of 5 parameters, thus\n",
    "\n",
    "$$\n",
    "T(\\nu,J) = T(\\nu,J |\\nu_e,\\chi_e,B_e,D_e,\\alpha_e)\n",
    "$$"
   ]
  },
  {
   "cell_type": "code",
   "execution_count": 6,
   "metadata": {
    "id": "xMesp58uaObp"
   },
   "outputs": [],
   "source": [
    "T_levels = lambda nu, J, nu_e, chi_e, B_e, D_e, a_e : (nu_e*(nu+0.5)) + B_e*J*(J+1) - nu_e*chi_e*(nu+0.5)**2 - D_e * J**2 * (J+1)**2 - a_e*(nu+0.5)*J*(J+1)"
   ]
  },
  {
   "cell_type": "code",
   "execution_count": 7,
   "metadata": {
    "id": "sTxOyMOkbPyy"
   },
   "outputs": [],
   "source": [
    "# Retrieve these values for HCl from NIST, and\n",
    "# generate a matrix of the first 2 vibrational levels, by 25 rotational levels\n",
    "# \n",
    "nu_e = 1\n",
    "chi_e = 1\n",
    "B_e = 1\n",
    "D_e = 1\n",
    "a_e = 1\n",
    "nu_max = 2\n",
    "J_max = 25\n",
    "levels = jnp.array([[T_levels(i, j, nu_e, chi_e, B_e, D_e, a_e) for j in range(J_max)] for i in range(nu_max)])"
   ]
  },
  {
   "cell_type": "code",
   "execution_count": 8,
   "metadata": {
    "colab": {
     "base_uri": "https://localhost:8080/"
    },
    "id": "LUdscI-_cEJL",
    "outputId": "815302a8-4778-453a-d585-82752c9020f3"
   },
   "outputs": [
    {
     "data": {
      "text/plain": [
       "Array([[ 1481.7954,  1502.672 ,  1544.4127,  1606.9917,  1690.3708,\n",
       "         1794.4989,  1919.3123,  2064.7344,  2230.6755,  2417.034 ,\n",
       "         2623.6946,  2850.5295,  3097.399 ,  3364.1494,  3650.6147,\n",
       "         3956.6162,  4281.963 ,  4626.4497,  4989.8604,  5371.965 ,\n",
       "         5772.5205,  6191.272 ,  6627.951 ,  7082.278 ,  7553.9575],\n",
       "       [ 4366.158 ,  4386.4204,  4426.9326,  4487.6685,  4568.59  ,\n",
       "         4669.6465,  4790.7734,  4931.895 ,  5092.9214,  5273.7505,\n",
       "         5474.2676,  5694.3447,  5933.842 ,  6192.6055,  6470.4697,\n",
       "         6767.256 ,  7082.7725,  7416.8154,  7769.1675,  8139.599 ,\n",
       "         8527.867 ,  8933.718 ,  9356.881 ,  9797.077 , 10254.012 ]],      dtype=float32)"
      ]
     },
     "execution_count": 8,
     "metadata": {},
     "output_type": "execute_result"
    }
   ],
   "source": [
    "levels"
   ]
  },
  {
   "cell_type": "markdown",
   "metadata": {
    "id": "USRCsS1uRLBF"
   },
   "source": [
    "## Boltzmann Distribution\n",
    "The boltzmann distribution assigns a probability to an energy level based on the temperature:\n",
    "$$\n",
    "P_i = e^{\\frac{-E_i}{k_b*Temp}}\n",
    "$$"
   ]
  },
  {
   "cell_type": "code",
   "execution_count": 9,
   "metadata": {
    "id": "p2qF8l7xRLBF"
   },
   "outputs": [],
   "source": [
    "boltzmann_prob = lambda energies, temp : jnp.exp(-1*energies/(cons.Boltzmann*temp))"
   ]
  },
  {
   "cell_type": "markdown",
   "metadata": {
    "id": "bmZrTqRIvnJJ"
   },
   "source": [
    "Populate the energy levels that were previously created with Boltzmann probability."
   ]
  },
  {
   "cell_type": "code",
   "execution_count": 10,
   "metadata": {
    "colab": {
     "base_uri": "https://localhost:8080/"
    },
    "id": "SV1LSq0YRLBG",
    "outputId": "f2616cb9-48b1-4d54-ff43-3ceeef689347"
   },
   "outputs": [
    {
     "name": "stdout",
     "output_type": "stream",
     "text": [
      "[[8.19696870e-04 7.41601223e-04 6.07059512e-04 4.49664716e-04\n",
      "  3.01455584e-04 1.82953692e-04 1.00548226e-04 5.00590868e-05\n",
      "  2.25867570e-05 9.24054802e-06 3.42970475e-06 1.15556816e-06\n",
      "  3.53675802e-07 9.84023600e-08 2.49082657e-08 5.74103698e-09\n",
      "  1.20599242e-09 2.31117445e-10 4.04487867e-11 6.47205857e-12\n",
      "  9.47866568e-13 1.27219619e-13 1.56682223e-14 1.77307575e-15\n",
      "  1.84626091e-16]\n",
      " [8.05338629e-10 7.30762950e-10 6.01721784e-10 4.49668497e-10\n",
      "  3.05032555e-10 1.87871357e-10 1.05092615e-10 5.34119519e-11\n",
      "  2.46743060e-11 1.03658809e-11 3.96242197e-12 1.37903512e-12\n",
      "  4.37260959e-13 1.26408839e-13 3.33449563e-14 8.03283865e-15\n",
      "  1.76888040e-15 3.56401897e-16 6.57727304e-17 1.11299939e-17\n",
      "  1.72899628e-18 2.46871046e-19 3.24406665e-20 3.92849520e-21\n",
      "  4.39041509e-22]]\n"
     ]
    }
   ],
   "source": [
    "#Convert levels to joules\n",
    "boltzmann_pop = boltzmann_prob(levels*cons.h*cons.c*100, temp)\n",
    "print(boltzmann_pop)"
   ]
  },
  {
   "cell_type": "markdown",
   "metadata": {
    "id": "ShDGus_v5Jwo"
   },
   "source": [
    "### Boltzmann Degeneracy"
   ]
  },
  {
   "cell_type": "code",
   "execution_count": 11,
   "metadata": {
    "id": "yNOkKlmw5O8W"
   },
   "outputs": [],
   "source": [
    "#Degeneracy of Rotational Levels is \n",
    "rot_degeneracy = lambda J : 2*J + 1"
   ]
  },
  {
   "cell_type": "code",
   "execution_count": 12,
   "metadata": {
    "colab": {
     "base_uri": "https://localhost:8080/"
    },
    "id": "t2XOUxmY5pIZ",
    "outputId": "3cfeb035-6a25-4ce7-9445-a6950722c0bb"
   },
   "outputs": [
    {
     "name": "stdout",
     "output_type": "stream",
     "text": [
      "[[8.1969687e-04 2.2248037e-03 3.0352976e-03 3.1476531e-03 2.7131003e-03\n",
      "  2.0124905e-03 1.3071269e-03 7.5088628e-04 3.8397487e-04 1.7557041e-04\n",
      "  7.2023802e-05 2.6578067e-05 8.8418947e-06 2.6568637e-06 7.2233968e-07\n",
      "  1.7797214e-07 3.9797751e-08 8.0891107e-09 1.4966051e-09 2.5241029e-10\n",
      "  3.8862528e-11 5.4704435e-12 7.0507001e-13 8.3334557e-14 9.0466786e-15]\n",
      " [8.0533863e-10 2.1922888e-09 3.0086089e-09 3.1476795e-09 2.7452929e-09\n",
      "  2.0665849e-09 1.3662040e-09 8.0117929e-10 4.1946321e-10 1.9695173e-10\n",
      "  8.3210862e-11 3.1717809e-11 1.0931524e-11 3.4130387e-12 9.6700371e-13\n",
      "  2.4901801e-13 5.8373052e-14 1.2474066e-14 2.4335911e-15 4.3406976e-16\n",
      "  7.0888849e-17 1.0615455e-17 1.4598300e-18 1.8463928e-19 2.1513034e-20]]\n"
     ]
    }
   ],
   "source": [
    "boltzmann_pop = boltzmann_prob(levels*cons.h*cons.c*100, temp) * rot_degeneracy(jnp.arange(levels.shape[1]))\n",
    "print(boltzmann_pop)"
   ]
  },
  {
   "cell_type": "code",
   "execution_count": 13,
   "metadata": {
    "colab": {
     "base_uri": "https://localhost:8080/"
    },
    "id": "tPPlhGH85eBC",
    "outputId": "72ba03f1-62b0-4139-d8f6-84e1b045477a"
   },
   "outputs": [
    {
     "name": "stdout",
     "output_type": "stream",
     "text": [
      "[[4.91375849e-02 1.33368179e-01 1.81954086e-01 1.88689351e-01\n",
      "  1.62639633e-01 1.20640844e-01 7.83570930e-02 4.50126640e-02\n",
      "  2.30177753e-02 1.05247516e-02 4.31754207e-03 1.59324997e-03\n",
      "  5.30036632e-04 1.59268471e-04 4.33014065e-05 1.06687257e-05\n",
      "  2.38571783e-06 4.84910174e-07 8.97155559e-08 1.51309987e-08\n",
      "  2.32965491e-09 3.27931460e-10 4.22661593e-11 4.99557730e-12\n",
      "  5.42312614e-13]\n",
      " [4.82768669e-08 1.31419043e-07 1.80354206e-07 1.88690933e-07\n",
      "  1.64569457e-07 1.23883595e-07 8.18985271e-08 4.80275304e-08\n",
      "  2.51451606e-08 1.18064776e-08 4.98816188e-09 1.90135729e-09\n",
      "  6.55301646e-10 2.04598172e-10 5.79680470e-11 1.49276442e-11\n",
      "  3.49923367e-12 7.47770932e-13 1.45884159e-13 2.60207657e-14\n",
      "  4.24950627e-15 6.36354572e-16 8.75110303e-17 1.10683946e-17\n",
      "  1.28962131e-18]] 1.0\n"
     ]
    }
   ],
   "source": [
    "# This can be normalized to sum to one, if desired\n",
    "normalized_boltzmann_pop = boltzmann_pop/jnp.sum(boltzmann_pop)\n",
    "print(normalized_boltzmann_pop, jnp.sum(normalized_boltzmann_pop))"
   ]
  },
  {
   "cell_type": "code",
   "execution_count": 14,
   "metadata": {
    "colab": {
     "base_uri": "https://localhost:8080/"
    },
    "id": "Y-avuuOH5kFt",
    "outputId": "3fa530c6-eae6-4852-9fe2-8018923e78db"
   },
   "outputs": [
    {
     "name": "stdout",
     "output_type": "stream",
     "text": [
      "[9.9999899e-01 1.0118986e-06]\n",
      "[4.9137633e-02 1.3336831e-01 1.8195426e-01 1.8868954e-01 1.6263980e-01\n",
      " 1.2064097e-01 7.8357175e-02 4.5012712e-02 2.3017799e-02 1.0524764e-02\n",
      " 4.3175472e-03 1.5932518e-03 5.3003727e-04 1.5926867e-04 4.3301465e-05\n",
      " 1.0668740e-05 2.3857212e-06 4.8491091e-07 8.9715705e-08 1.5131025e-08\n",
      " 2.3296591e-09 3.2793210e-10 4.2266246e-11 4.9955886e-12 5.4231392e-13]\n"
     ]
    }
   ],
   "source": [
    "print(jnp.sum(normalized_boltzmann_pop, 1)) #Distribution of vibrational states (summing across rotations))\n",
    "print(jnp.sum(normalized_boltzmann_pop, 0)) #Distribution of rotational states (summing across vibrations))"
   ]
  },
  {
   "cell_type": "markdown",
   "metadata": {
    "id": "tcfDPlMnRLBJ"
   },
   "source": [
    "## Selection Rules for spectroscopy\n",
    "#### Calculating energy levels is good, but the key to spectra is the transitions between energy levels\n",
    " Here is a summary of the selection rules: \\\n",
    "$\\Delta \\nu$ = +/-1 and $\\Delta J$ = +/-1 $ \\\n",
    "Any transition must satisfy both of these simultaneously\n"
   ]
  },
  {
   "cell_type": "code",
   "execution_count": 15,
   "metadata": {
    "colab": {
     "base_uri": "https://localhost:8080/"
    },
    "id": "TMq9wzz4TBAM",
    "outputId": "71195902-7055-437b-f185-ecd3b41684c4"
   },
   "outputs": [
    {
     "data": {
      "text/plain": [
       "Array([[ 1481.7954,  1502.672 ,  1544.4127,  1606.9917,  1690.3708,\n",
       "         1794.4989,  1919.3123,  2064.7344,  2230.6755,  2417.034 ,\n",
       "         2623.6946,  2850.5295,  3097.399 ,  3364.1494,  3650.6147,\n",
       "         3956.6162,  4281.963 ,  4626.4497,  4989.8604,  5371.965 ,\n",
       "         5772.5205,  6191.272 ,  6627.951 ,  7082.278 ,  7553.9575],\n",
       "       [ 4366.158 ,  4386.4204,  4426.9326,  4487.6685,  4568.59  ,\n",
       "         4669.6465,  4790.7734,  4931.895 ,  5092.9214,  5273.7505,\n",
       "         5474.2676,  5694.3447,  5933.842 ,  6192.6055,  6470.4697,\n",
       "         6767.256 ,  7082.7725,  7416.8154,  7769.1675,  8139.599 ,\n",
       "         8527.867 ,  8933.718 ,  9356.881 ,  9797.077 , 10254.012 ]],      dtype=float32)"
      ]
     },
     "execution_count": 15,
     "metadata": {},
     "output_type": "execute_result"
    }
   ],
   "source": [
    "levels"
   ]
  },
  {
   "cell_type": "code",
   "execution_count": 16,
   "metadata": {
    "colab": {
     "base_uri": "https://localhost:8080/"
    },
    "id": "6yBtJPyaRLBJ",
    "outputId": "b919175b-ca46-411b-f24f-5de7abcbe3dd"
   },
   "outputs": [
    {
     "name": "stdout",
     "output_type": "stream",
     "text": [
      "[2904.625  2924.2607 2943.2559 2961.5981 2979.2756 2996.2744 3012.5828\n",
      " 3028.187  3043.075  3057.2336 3070.6501 3083.3123 3095.2065 3106.3203\n",
      " 3116.641  3126.1562 3134.8525 3142.7178 3149.7388 3155.9023 3161.1973\n",
      " 3165.609  3169.126  3171.734 ]\n",
      "[2863.4863 2842.0078 2819.941  2797.2976 2774.0908 2750.3342 2726.039\n",
      " 2701.2195 2675.8875 2650.056  2623.738  2596.9458 2569.6924 2541.9907\n",
      " 2513.8535 2485.293  2456.3228 2426.955  2397.2026 2367.0786 2336.5952\n",
      " 2305.7666 2274.603  2243.1196]\n",
      "2884.3628\n"
     ]
    }
   ],
   "source": [
    "# Typically we are only concerned with vibrational transitions from 0, 1.\n",
    "r_transitions = levels[1,1:] - levels[0,:-1]\n",
    "p_transitions = levels[1,:-1] - levels[0,1:]\n",
    "print(r_transitions)\n",
    "print(p_transitions)\n",
    "print(levels[1,0] - levels[0,0])"
   ]
  },
  {
   "cell_type": "markdown",
   "metadata": {
    "id": "JEPTB-ia4seN"
   },
   "source": [
    "## Generating A Spectrum"
   ]
  },
  {
   "cell_type": "code",
   "execution_count": 17,
   "metadata": {
    "colab": {
     "base_uri": "https://localhost:8080/",
     "height": 295
    },
    "id": "BRDep-E141Lt",
    "outputId": "11d3b650-6f38-4a18-91a7-122f4ebd96fa"
   },
   "outputs": [
    {
     "data": {
      "image/png": "[encoded data removed]",
      "text/plain": [
       "<Figure size 432x288 with 1 Axes>"
      ]
     },
     "metadata": {
      "needs_background": "light"
     },
     "output_type": "display_data"
    }
   ],
   "source": [
    "plt.clf()\n",
    "plt.scatter(jnp.arange(J_max), levels[1,:] - levels[0,:])\n",
    "plt.scatter(jnp.arange(1, J_max), p_transitions)\n",
    "plt.scatter(jnp.arange(J_max -1), r_transitions)\n",
    "plt.legend(['blue_legend_name',\n",
    "            'orange_legend_name',\n",
    "            'green_legend_name'])\n",
    "plt.xlabel('Base J level')\n",
    "plt.ylabel('Transition Energy (wnvm)')\n",
    "plt.title('Figure M')\n",
    "plt.show()"
   ]
  },
  {
   "cell_type": "markdown",
   "metadata": {
    "id": "UxiVJ0v6NJAd"
   },
   "source": [
    "### Description of Generated Spectrum\n",
    "A spectrum will be generated as a sum of gaussians centered at each transition wavelength, with relative heights of the boltzmann weight of their base level.\n",
    "$$\n",
    "f(λ) = W_b e^\\frac{-(λ - λ_0)^2}{2\\sigma^2}\n",
    "$$\n",
    "With σ as an empirical bandwidth parameter."
   ]
  },
  {
   "cell_type": "code",
   "execution_count": 18,
   "metadata": {
    "id": "HtuTptLaPczh"
   },
   "outputs": [],
   "source": [
    "#Define a Gaussian\n",
    "Gaussian = lambda x, a, b, c : a*jnp.exp(-1*(x-b)**2 / (2*c**2))"
   ]
  },
  {
   "cell_type": "code",
   "execution_count": 19,
   "metadata": {
    "id": "nax-dyW6Uk1b"
   },
   "outputs": [],
   "source": [
    "#Define Coefficients Wb\n",
    "r_coeffs = normalized_boltzmann_pop[0,:-1] # Values of base levels where dJ += 1 is possible\n",
    "p_coeffs = normalized_boltzmann_pop[0,1:] # Values of base levels where dJ -= 1 is possible"
   ]
  },
  {
   "cell_type": "code",
   "execution_count": 20,
   "metadata": {
    "colab": {
     "base_uri": "https://localhost:8080/"
    },
    "id": "Tg6KFZlY4WmC",
    "outputId": "4cd21441-afb6-4e93-b4cf-8a1d244739f7"
   },
   "outputs": [
    {
     "data": {
      "text/plain": [
       "(Array([2904.625 , 2924.2607, 2943.2559, 2961.5981, 2979.2756, 2996.2744,\n",
       "        3012.5828, 3028.187 , 3043.075 , 3057.2336, 3070.6501, 3083.3123,\n",
       "        3095.2065, 3106.3203, 3116.641 , 3126.1562, 3134.8525, 3142.7178,\n",
       "        3149.7388, 3155.9023, 3161.1973, 3165.609 , 3169.126 , 3171.734 ],      dtype=float32),\n",
       " Array([4.91375849e-02, 1.33368179e-01, 1.81954086e-01, 1.88689351e-01,\n",
       "        1.62639633e-01, 1.20640844e-01, 7.83570930e-02, 4.50126640e-02,\n",
       "        2.30177753e-02, 1.05247516e-02, 4.31754207e-03, 1.59324997e-03,\n",
       "        5.30036632e-04, 1.59268471e-04, 4.33014065e-05, 1.06687257e-05,\n",
       "        2.38571783e-06, 4.84910174e-07, 8.97155559e-08, 1.51309987e-08,\n",
       "        2.32965491e-09, 3.27931460e-10, 4.22661593e-11, 4.99557730e-12],      dtype=float32))"
      ]
     },
     "execution_count": 20,
     "metadata": {},
     "output_type": "execute_result"
    }
   ],
   "source": [
    "r_transitions, r_coeffs"
   ]
  },
  {
   "cell_type": "code",
   "execution_count": 21,
   "metadata": {
    "colab": {
     "base_uri": "https://localhost:8080/"
    },
    "id": "1yOOpmbNCLIu",
    "outputId": "36bbf1a2-e046-4597-9b88-1faccd609d88"
   },
   "outputs": [
    {
     "data": {
      "text/plain": [
       "(Array([2863.4863, 2842.0078, 2819.941 , 2797.2976, 2774.0908, 2750.3342,\n",
       "        2726.039 , 2701.2195, 2675.8875, 2650.056 , 2623.738 , 2596.9458,\n",
       "        2569.6924, 2541.9907, 2513.8535, 2485.293 , 2456.3228, 2426.955 ,\n",
       "        2397.2026, 2367.0786, 2336.5952, 2305.7666, 2274.603 , 2243.1196],      dtype=float32),\n",
       " Array([1.33368179e-01, 1.81954086e-01, 1.88689351e-01, 1.62639633e-01,\n",
       "        1.20640844e-01, 7.83570930e-02, 4.50126640e-02, 2.30177753e-02,\n",
       "        1.05247516e-02, 4.31754207e-03, 1.59324997e-03, 5.30036632e-04,\n",
       "        1.59268471e-04, 4.33014065e-05, 1.06687257e-05, 2.38571783e-06,\n",
       "        4.84910174e-07, 8.97155559e-08, 1.51309987e-08, 2.32965491e-09,\n",
       "        3.27931460e-10, 4.22661593e-11, 4.99557730e-12, 5.42312614e-13],      dtype=float32))"
      ]
     },
     "execution_count": 21,
     "metadata": {},
     "output_type": "execute_result"
    }
   ],
   "source": [
    "p_transitions, p_coeffs"
   ]
  },
  {
   "cell_type": "code",
   "execution_count": 22,
   "metadata": {
    "colab": {
     "base_uri": "https://localhost:8080/",
     "height": 573
    },
    "id": "Q0YfYRroQTVZ",
    "outputId": "19c7fd8b-8d70-430b-df79-5660960ef293"
   },
   "outputs": [
    {
     "data": {
      "image/png": "[encoded data removed]",
      "text/plain": [
       "<Figure size 432x288 with 1 Axes>"
      ]
     },
     "metadata": {
      "needs_background": "light"
     },
     "output_type": "display_data"
    },
    {
     "data": {
      "image/png": "[encoded data removed]",
      "text/plain": [
       "<Figure size 432x288 with 1 Axes>"
      ]
     },
     "metadata": {
      "needs_background": "light"
     },
     "output_type": "display_data"
    }
   ],
   "source": [
    "domain = jnp.linspace(2500,3200,1000)\n",
    "sigma = 2.5\n",
    "\n",
    "r_excitation_data = jnp.array([[Gaussian(domain, W_b, l_c, sigma) for W_b in r_coeffs] for l_c in r_transitions])\n",
    "p_excitation_data = jnp.array([[Gaussian(domain, W_b, l_c, sigma) for W_b in p_coeffs] for l_c in p_transitions])\n",
    "\n",
    "excitation_data = []\n",
    "for i in range(r_excitation_data.shape[0]):\n",
    "  excitation_data.append(r_excitation_data[i,i,:])\n",
    "  excitation_data.append(p_excitation_data[i,i,:])\n",
    "excitation_data = jnp.array(excitation_data)\n",
    "\n",
    "plot_data('TITLE HERE', domain, excitation_data.sum(0), 'Wavelength (wvnm)', 'Qeff')\n",
    "plot_data('TITLE HERE', domain, 1 - excitation_data.sum(0), 'Wavelength (wvnm)', 'Abs')"
   ]
  },
  {
   "cell_type": "markdown",
   "metadata": {
    "id": "dxMWjn2gfyXw"
   },
   "source": [
    "## Graph Real Data"
   ]
  },
  {
   "cell_type": "code",
   "execution_count": 23,
   "metadata": {
    "colab": {
     "base_uri": "https://localhost:8080/"
    },
    "id": "O7lI8x0Cf2qF",
    "outputId": "15913b11-5f26-4bd2-fcd3-8873b1c6a4aa"
   },
   "outputs": [
    {
     "name": "stdout",
     "output_type": "stream",
     "text": [
      "Drive already mounted at /content/drive; to attempt to forcibly remount, call drive.mount(\"/content/drive\", force_remount=True).\n"
     ]
    }
   ],
   "source": [
    "#Obtain jcampdx from NIST, a common IR file format at\n",
    "# https://webbook.nist.gov/cgi/cbook.cgi?JCAMP=C7647010&Index=0&Type=IR\n",
    "# Save it to your google drive and point to it here\n",
    "from IPython.testing import test\n",
    "from google.colab import drive\n",
    "drive.mount('/content/drive')\n",
    "##################################################################\n",
    "hcl_jcamp = '/content/drive/MyDrive/7647-01-0-IR.jdx'\n",
    "#%cat $hcl_jcamp"
   ]
  },
  {
   "cell_type": "code",
   "execution_count": 24,
   "metadata": {
    "colab": {
     "base_uri": "https://localhost:8080/",
     "height": 34
    },
    "id": "H_60RMD6584D",
    "outputId": "9c71fb5a-b7b1-4861-cdc3-e419546abda4"
   },
   "outputs": [
    {
     "data": {
      "text/plain": [
       "<Figure size 432x288 with 0 Axes>"
      ]
     },
     "metadata": {},
     "output_type": "display_data"
    }
   ],
   "source": [
    "def get_jcamp_data(jcamp_fn):\n",
    "  with open(jcamp_fn, 'r') as w:\n",
    "    lines = [line[:-1] if line.endswith('\\n') else line for line in w.readlines()]\n",
    "  #print(lines)\n",
    "  data_start = lines.index(\"##XYDATA=(X++(Y..Y))\") + 1\n",
    "  data_end = lines.index(\"##END=\")\n",
    "  #Data is averaged some number of times\n",
    "  data_lines = lines[data_start:data_end]\n",
    "  data = jnp.array([[float(element) for element in line.split(' ')] for line in data_lines])\n",
    "  x_data = data[:,0]\n",
    "  y_data = jnp.average(data[:,1:],1)\n",
    "  return x_data, y_data\n",
    "\n",
    "plt.clf()\n",
    "#Now you plot data from NIST below this comment\n",
    "\n",
    "plt.show()"
   ]
  },
  {
   "cell_type": "code",
   "execution_count": 25,
   "metadata": {
    "colab": {
     "base_uri": "https://localhost:8080/",
     "height": 296
    },
    "id": "ZuhWUG8qdIAP",
    "outputId": "5fac7cac-db37-4836-a1db-6e1b4132534b"
   },
   "outputs": [
    {
     "data": {
      "image/png": "[encoded data removed]",
      "text/plain": [
       "<Figure size 432x288 with 1 Axes>"
      ]
     },
     "metadata": {
      "needs_background": "light"
     },
     "output_type": "display_data"
    }
   ],
   "source": [
    "plt.clf()\n",
    "#Now complete the plot of the data from NIST\n",
    "xs, ys = get_jcamp_data(hcl_jcamp)\n",
    "plt.plot(xs[450:570], ys[450:570])\n",
    "plt.plot(jnp.linspace(2500,3200,1000), 1 - excitation_data.sum(0))\n",
    "plt.title('Title_name_here')\n",
    "plt.xlabel('XLABEL_name_here')\n",
    "plt.ylabel('YLabel_name_here')\n",
    "plt.show()"
   ]
  },
  {
   "cell_type": "markdown",
   "metadata": {
    "id": "rMwcOsgBw9QN"
   },
   "source": [
    "## Questions"
   ]
  },
  {
   "cell_type": "markdown",
   "metadata": {
    "id": "LvyF-OOSxT9O"
   },
   "source": [
    "### Edit this text cell to write your answers to the following questions below each question.\n",
    "\n",
    "#### Explain the purpose of prefixes like jnp. and cons.\n",
    "\n",
    "#### Explain the meaning/contribution of each term in the equation for T (from equation 4).\n",
    "\n",
    "#### How does the boltzmann population differ between rotational and vibrational energy levels?  Are either well dispersed/isolated?\n",
    "\n",
    "#### How do we know if we are using enough boltzmann levels to describe the molecular energy landscape?\n",
    "\n",
    "#### Describe the selection rules for spectroscopy and the R and P branches.  Which is higher energy?  Why is there a \"forbidden transition\" between the two branches?\n",
    "\n",
    "#### This is, principally, a single molecule analysis.  What effects or interactions that we have not described here can occur to a molecule present in a bulk/ensemble?\n",
    "\n",
    "#### Describe and explain Figure M.\n",
    "\n",
    "#### How well does this analysis fit/mimick real spectroscopic data?\n",
    "\n",
    "#### At what pressure of HCl was your spectrum from the NIST link taken?  What parameters were used in cell 8 of this notebook?\n",
    "\n",
    "#### What (in your opinion) was the best assumption made in this analysis?\n",
    "\n",
    "#### What (in your opinion) was the worst assumption made in this analysis?\n"
   ]
  },
  {
   "cell_type": "markdown",
   "metadata": {},
   "source": [
    "## Assignment"
   ]
  },
  {
   "cell_type": "markdown",
   "metadata": {},
   "source": [
    "#### Choose a Diatomic Molecule and replicate this analysis\n",
    "#### No two students may use the same molecule.  Post which molecule you will analyze to the discussion on blackboard."
   ]
  },
  {
   "cell_type": "code",
   "execution_count": 26,
   "metadata": {
    "colab": {
     "base_uri": "https://localhost:8080/"
    },
    "id": "GvR4YwfUiRJs",
    "outputId": "b3bb6b9e-e44d-4c6c-c555-f997b88dd519"
   },
   "outputs": [
    {
     "data": {
      "text/plain": [
       "((148,), (148,))"
      ]
     },
     "execution_count": 26,
     "metadata": {},
     "output_type": "execute_result"
    }
   ],
   "source": [
    "#Shape of output = (nu_e, chi_e, B_e, D_e, a_e, gaussian_sigma, normalizing_factor, vertical_shift)\n",
    "nu_max = 2\n",
    "J_max = 50\n",
    "low_bound = 2500\n",
    "high_bound = 3200\n",
    "\n",
    "domain, experiment_data = get_jcamp_data(hcl_jcamp)\n",
    "low_ind, high_ind = jnp.where(domain>2500)[0][0], jnp.where(domain<3200)[0][-1]\n",
    "domain = domain[low_ind:high_ind]\n",
    "experiment_data = experiment_data[low_ind:high_ind]\n",
    "domain.shape, experiment_data.shape"
   ]
  },
  {
   "cell_type": "code",
   "execution_count": 27,
   "metadata": {
    "id": "pRPiBj_YPy90"
   },
   "outputs": [],
   "source": [
    "import jax\n",
    "from jax.example_libraries import stax\n",
    "from jax import random\n",
    "from jax.example_libraries.stax import (BatchNorm, Conv, Dense, Flatten, Relu, LogSoftmax)\n",
    "from jax.example_libraries import optimizers\n",
    "from jax import jit, value_and_grad\n",
    "from tqdm.notebook import tqdm\n",
    "\n",
    "def generate_spectrum_from_nn_params(output):\n",
    "    \n",
    "    levels = jnp.array([[T_levels(i, j, *output[:5]) for j in jnp.arange(J_max)] for i in jnp.arange(nu_max)])\n",
    "    boltzmann_pop = jnp.array(boltzmann_prob(levels*cons.h*cons.c*100, temp) * rot_degeneracy(jnp.arange(levels.shape[1])))\n",
    "    normalized_boltzmann_pop = boltzmann_pop/jnp.sum(boltzmann_pop)\n",
    "    \n",
    "    r_transitions = levels[1,1:] - levels[0,:-1]\n",
    "    p_transitions = levels[1,:-1] - levels[0,1:]\n",
    "    r_coeffs = normalized_boltzmann_pop[0,:-1]\n",
    "    p_coeffs = normalized_boltzmann_pop[0,1:]\n",
    "    r_excitation_data = jnp.array([[Gaussian(domain, W_b, l_c, output[5]) for W_b in r_coeffs] for l_c in r_transitions])\n",
    "    p_excitation_data = jnp.array([[Gaussian(domain, W_b, l_c, output[5]) for W_b in p_coeffs] for l_c in p_transitions])\n",
    "    \n",
    "    excitation_data = []\n",
    "    for i in range(r_excitation_data.shape[0]):\n",
    "      excitation_data.append(r_excitation_data[i,i,:])\n",
    "      excitation_data.append(p_excitation_data[i,i,:])\n",
    "    excitation_data = (1 - jnp.array(excitation_data).sum(0) * output[6]) \n",
    "    return excitation_data + output[7]\n",
    "\n",
    "def loss_fun(params, a): #mean squared difference between array a and b\n",
    "    y = generate_spectrum_from_nn_params(apply_fun(params, a))\n",
    "    return jnp.mean((y - a)**2)"
   ]
  },
  {
   "cell_type": "code",
   "execution_count": null,
   "metadata": {
    "colab": {
     "base_uri": "https://localhost:8080/",
     "height": 49,
     "referenced_widgets": [
      "74481165147a433cbd8073db89772e43",
      "d25b92484e564a6c9f70a570a26258f1",
      "067cc8f275f2440786bb2fdbeffdfd06",
      "4c79c011af84472c87469a462473fdb5",
      "4d1b54fccc8a4400ba2a56c7b5d419ec",
      "ae3491d2427948beb5974c43e353a517",
      "7db6ddae72ce4cfbbb2046210b8eb707",
      "6a4c758bf169475894a08cba898b5146",
      "c441851f2fb34db889b24310f408ebb8",
      "6e4da7f92e324e7eb7aa07db76444132",
      "34d25a243c3f4318a14ed2e5448d118b"
     ]
    },
    "id": "RNk0U4OSIl8G",
    "outputId": "5583431f-09a6-430b-93a1-013d3a7fd9b5"
   },
   "outputs": [
    {
     "data": {
      "application/vnd.jupyter.widget-view+json": {
       "model_id": "74481165147a433cbd8073db89772e43",
       "version_major": 2,
       "version_minor": 0
      },
      "text/plain": [
       "  0%|          | 0/100 [00:00<?, ?it/s]"
      ]
     },
     "metadata": {},
     "output_type": "display_data"
    }
   ],
   "source": [
    "init_fun, apply_fun = stax.serial(Dense(10), Relu, Dense(7))\n",
    "\n",
    "key = random.PRNGKey(2)\n",
    "_, params = init_fun(key, input_shape=(experiment_data.shape))\n",
    "\n",
    "step_size = 1e-3\n",
    "opt_init, opt_update, get_params = optimizers.adam(step_size)\n",
    "opt_state = opt_init(params)\n",
    "\n",
    "@jit\n",
    "def update(params, x, opt_state):\n",
    "    \"\"\" Compute the gradient for a batch and update the parameters \"\"\"\n",
    "    \n",
    "    # Take the gradient and evaluate the loss function\n",
    "    #print(loss_fun)\n",
    "    grads = jax.grad(loss_fun)(params, x)\n",
    "    \n",
    "    # Update the network using the gradient taken\n",
    "    opt_state = opt_update(0, grads, opt_state)\n",
    "    \n",
    "    return get_params(opt_state), opt_state\n",
    "\n",
    "num_epochs = 100\n",
    "loss_val = jnp.zeros((num_epochs))\n",
    "\n",
    "#print(apply_fun(params, experiment_data))\n",
    "for epoch in tqdm(range(num_epochs)):\n",
    "     params, opt_state, _ = update(params, experiment_data, opt_state)\n",
    "     loss_val[epoch] = loss_fun(params, experiment_data)"
   ]
  },
  {
   "cell_type": "code",
   "execution_count": null,
   "metadata": {
    "id": "412_FV5SVe0r"
   },
   "outputs": [],
   "source": []
  }
 ],
 "metadata": {
  "accelerator": "GPU",
  "colab": {
   "provenance": []
  },
  "gpuClass": "standard",
  "kernelspec": {
   "display_name": "Python 3 (ipykernel)",
   "language": "python",
   "name": "python3"
  },
  "language_info": {
   "codemirror_mode": {
    "name": "ipython",
    "version": 3
   },
   "file_extension": ".py",
   "mimetype": "text/x-python",
   "name": "python",
   "nbconvert_exporter": "python",
   "pygments_lexer": "ipython3",
   "version": "3.9.12"
  },
  "widgets": {
   "application/vnd.jupyter.widget-state+json": {
    "067cc8f275f2440786bb2fdbeffdfd06": {
     "model_module": "@jupyter-widgets/controls",
     "model_module_version": "1.5.0",
     "model_name": "FloatProgressModel",
     "state": {
      "_dom_classes": [],
      "_model_module": "@jupyter-widgets/controls",
      "_model_module_version": "1.5.0",
      "_model_name": "FloatProgressModel",
      "_view_count": null,
      "_view_module": "@jupyter-widgets/controls",
      "_view_module_version": "1.5.0",
      "_view_name": "ProgressView",
      "bar_style": "",
      "description": "",
      "description_tooltip": null,
      "layout": "IPY_MODEL_6a4c758bf169475894a08cba898b5146",
      "max": 100,
      "min": 0,
      "orientation": "horizontal",
      "style": "IPY_MODEL_c441851f2fb34db889b24310f408ebb8",
      "value": 0
     }
    },
    "34d25a243c3f4318a14ed2e5448d118b": {
     "model_module": "@jupyter-widgets/controls",
     "model_module_version": "1.5.0",
     "model_name": "DescriptionStyleModel",
     "state": {
      "_model_module": "@jupyter-widgets/controls",
      "_model_module_version": "1.5.0",
      "_model_name": "DescriptionStyleModel",
      "_view_count": null,
      "_view_module": "@jupyter-widgets/base",
      "_view_module_version": "1.2.0",
      "_view_name": "StyleView",
      "description_width": ""
     }
    },
    "4c79c011af84472c87469a462473fdb5": {
     "model_module": "@jupyter-widgets/controls",
     "model_module_version": "1.5.0",
     "model_name": "HTMLModel",
     "state": {
      "_dom_classes": [],
      "_model_module": "@jupyter-widgets/controls",
      "_model_module_version": "1.5.0",
      "_model_name": "HTMLModel",
      "_view_count": null,
      "_view_module": "@jupyter-widgets/controls",
      "_view_module_version": "1.5.0",
      "_view_name": "HTMLView",
      "description": "",
      "description_tooltip": null,
      "layout": "IPY_MODEL_6e4da7f92e324e7eb7aa07db76444132",
      "placeholder": "​",
      "style": "IPY_MODEL_34d25a243c3f4318a14ed2e5448d118b",
      "value": " 0/100 [00:00&lt;?, ?it/s]"
     }
    },
    "4d1b54fccc8a4400ba2a56c7b5d419ec": {
     "model_module": "@jupyter-widgets/base",
     "model_module_version": "1.2.0",
     "model_name": "LayoutModel",
     "state": {
      "_model_module": "@jupyter-widgets/base",
      "_model_module_version": "1.2.0",
      "_model_name": "LayoutModel",
      "_view_count": null,
      "_view_module": "@jupyter-widgets/base",
      "_view_module_version": "1.2.0",
      "_view_name": "LayoutView",
      "align_content": null,
      "align_items": null,
      "align_self": null,
      "border": null,
      "bottom": null,
      "display": null,
      "flex": null,
      "flex_flow": null,
      "grid_area": null,
      "grid_auto_columns": null,
      "grid_auto_flow": null,
      "grid_auto_rows": null,
      "grid_column": null,
      "grid_gap": null,
      "grid_row": null,
      "grid_template_areas": null,
      "grid_template_columns": null,
      "grid_template_rows": null,
      "height": null,
      "justify_content": null,
      "justify_items": null,
      "left": null,
      "margin": null,
      "max_height": null,
      "max_width": null,
      "min_height": null,
      "min_width": null,
      "object_fit": null,
      "object_position": null,
      "order": null,
      "overflow": null,
      "overflow_x": null,
      "overflow_y": null,
      "padding": null,
      "right": null,
      "top": null,
      "visibility": null,
      "width": null
     }
    },
    "6a4c758bf169475894a08cba898b5146": {
     "model_module": "@jupyter-widgets/base",
     "model_module_version": "1.2.0",
     "model_name": "LayoutModel",
     "state": {
      "_model_module": "@jupyter-widgets/base",
      "_model_module_version": "1.2.0",
      "_model_name": "LayoutModel",
      "_view_count": null,
      "_view_module": "@jupyter-widgets/base",
      "_view_module_version": "1.2.0",
      "_view_name": "LayoutView",
      "align_content": null,
      "align_items": null,
      "align_self": null,
      "border": null,
      "bottom": null,
      "display": null,
      "flex": null,
      "flex_flow": null,
      "grid_area": null,
      "grid_auto_columns": null,
      "grid_auto_flow": null,
      "grid_auto_rows": null,
      "grid_column": null,
      "grid_gap": null,
      "grid_row": null,
      "grid_template_areas": null,
      "grid_template_columns": null,
      "grid_template_rows": null,
      "height": null,
      "justify_content": null,
      "justify_items": null,
      "left": null,
      "margin": null,
      "max_height": null,
      "max_width": null,
      "min_height": null,
      "min_width": null,
      "object_fit": null,
      "object_position": null,
      "order": null,
      "overflow": null,
      "overflow_x": null,
      "overflow_y": null,
      "padding": null,
      "right": null,
      "top": null,
      "visibility": null,
      "width": null
     }
    },
    "6e4da7f92e324e7eb7aa07db76444132": {
     "model_module": "@jupyter-widgets/base",
     "model_module_version": "1.2.0",
     "model_name": "LayoutModel",
     "state": {
      "_model_module": "@jupyter-widgets/base",
      "_model_module_version": "1.2.0",
      "_model_name": "LayoutModel",
      "_view_count": null,
      "_view_module": "@jupyter-widgets/base",
      "_view_module_version": "1.2.0",
      "_view_name": "LayoutView",
      "align_content": null,
      "align_items": null,
      "align_self": null,
      "border": null,
      "bottom": null,
      "display": null,
      "flex": null,
      "flex_flow": null,
      "grid_area": null,
      "grid_auto_columns": null,
      "grid_auto_flow": null,
      "grid_auto_rows": null,
      "grid_column": null,
      "grid_gap": null,
      "grid_row": null,
      "grid_template_areas": null,
      "grid_template_columns": null,
      "grid_template_rows": null,
      "height": null,
      "justify_content": null,
      "justify_items": null,
      "left": null,
      "margin": null,
      "max_height": null,
      "max_width": null,
      "min_height": null,
      "min_width": null,
      "object_fit": null,
      "object_position": null,
      "order": null,
      "overflow": null,
      "overflow_x": null,
      "overflow_y": null,
      "padding": null,
      "right": null,
      "top": null,
      "visibility": null,
      "width": null
     }
    },
    "74481165147a433cbd8073db89772e43": {
     "model_module": "@jupyter-widgets/controls",
     "model_module_version": "1.5.0",
     "model_name": "HBoxModel",
     "state": {
      "_dom_classes": [],
      "_model_module": "@jupyter-widgets/controls",
      "_model_module_version": "1.5.0",
      "_model_name": "HBoxModel",
      "_view_count": null,
      "_view_module": "@jupyter-widgets/controls",
      "_view_module_version": "1.5.0",
      "_view_name": "HBoxView",
      "box_style": "",
      "children": [
       "IPY_MODEL_d25b92484e564a6c9f70a570a26258f1",
       "IPY_MODEL_067cc8f275f2440786bb2fdbeffdfd06",
       "IPY_MODEL_4c79c011af84472c87469a462473fdb5"
      ],
      "layout": "IPY_MODEL_4d1b54fccc8a4400ba2a56c7b5d419ec"
     }
    },
    "7db6ddae72ce4cfbbb2046210b8eb707": {
     "model_module": "@jupyter-widgets/controls",
     "model_module_version": "1.5.0",
     "model_name": "DescriptionStyleModel",
     "state": {
      "_model_module": "@jupyter-widgets/controls",
      "_model_module_version": "1.5.0",
      "_model_name": "DescriptionStyleModel",
      "_view_count": null,
      "_view_module": "@jupyter-widgets/base",
      "_view_module_version": "1.2.0",
      "_view_name": "StyleView",
      "description_width": ""
     }
    },
    "ae3491d2427948beb5974c43e353a517": {
     "model_module": "@jupyter-widgets/base",
     "model_module_version": "1.2.0",
     "model_name": "LayoutModel",
     "state": {
      "_model_module": "@jupyter-widgets/base",
      "_model_module_version": "1.2.0",
      "_model_name": "LayoutModel",
      "_view_count": null,
      "_view_module": "@jupyter-widgets/base",
      "_view_module_version": "1.2.0",
      "_view_name": "LayoutView",
      "align_content": null,
      "align_items": null,
      "align_self": null,
      "border": null,
      "bottom": null,
      "display": null,
      "flex": null,
      "flex_flow": null,
      "grid_area": null,
      "grid_auto_columns": null,
      "grid_auto_flow": null,
      "grid_auto_rows": null,
      "grid_column": null,
      "grid_gap": null,
      "grid_row": null,
      "grid_template_areas": null,
      "grid_template_columns": null,
      "grid_template_rows": null,
      "height": null,
      "justify_content": null,
      "justify_items": null,
      "left": null,
      "margin": null,
      "max_height": null,
      "max_width": null,
      "min_height": null,
      "min_width": null,
      "object_fit": null,
      "object_position": null,
      "order": null,
      "overflow": null,
      "overflow_x": null,
      "overflow_y": null,
      "padding": null,
      "right": null,
      "top": null,
      "visibility": null,
      "width": null
     }
    },
    "c441851f2fb34db889b24310f408ebb8": {
     "model_module": "@jupyter-widgets/controls",
     "model_module_version": "1.5.0",
     "model_name": "ProgressStyleModel",
     "state": {
      "_model_module": "@jupyter-widgets/controls",
      "_model_module_version": "1.5.0",
      "_model_name": "ProgressStyleModel",
      "_view_count": null,
      "_view_module": "@jupyter-widgets/base",
      "_view_module_version": "1.2.0",
      "_view_name": "StyleView",
      "bar_color": null,
      "description_width": ""
     }
    },
    "d25b92484e564a6c9f70a570a26258f1": {
     "model_module": "@jupyter-widgets/controls",
     "model_module_version": "1.5.0",
     "model_name": "HTMLModel",
     "state": {
      "_dom_classes": [],
      "_model_module": "@jupyter-widgets/controls",
      "_model_module_version": "1.5.0",
      "_model_name": "HTMLModel",
      "_view_count": null,
      "_view_module": "@jupyter-widgets/controls",
      "_view_module_version": "1.5.0",
      "_view_name": "HTMLView",
      "description": "",
      "description_tooltip": null,
      "layout": "IPY_MODEL_ae3491d2427948beb5974c43e353a517",
      "placeholder": "​",
      "style": "IPY_MODEL_7db6ddae72ce4cfbbb2046210b8eb707",
      "value": "  0%"
     }
    }
   }
  }
 },
 "nbformat": 4,
 "nbformat_minor": 1
}
