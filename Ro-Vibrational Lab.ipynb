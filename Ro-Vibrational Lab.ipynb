{
 "cells": [
  {
   "cell_type": "markdown",
   "metadata": {
    "id": "EeMd4lvQRLA_"
   },
   "source": [
    "# Welcome to the jupyter notebook for Ro-Vibrational Spectrscopy!\n",
    "### Created Fall 2022: J. A. DePaolo-Boisvert"
   ]
  },
  {
   "cell_type": "code",
   "execution_count": null,
   "metadata": {
    "id": "Cu2LldsqRLBC",
    "scrolled": true
   },
   "outputs": [],
   "source": [
    "# Importing Packages which are like collections of code that groups of people will find useful\n",
    "# Some packages are widely known and applied while others can be much more niche\n",
    "import numpy as np\n",
    "import scipy as sp\n",
    "import scipy.constants as cons #constants is a submodule of scipy that we want easy access to\n",
    "import matplotlib as mp\n",
    "import matplotlib.pyplot as plt\n",
    "%matplotlib inline\n",
    "\n",
    "def plot_data(title, xs, ys, xlabel, ylabel):\n",
    "    plt.clf()\n",
    "    plt.title(title)\n",
    "    plt.xlabel(xlabel)\n",
    "    plt.ylabel(ylabel)\n",
    "    _ = plt.plot(xs, ys)\n",
    "    plt.show()\n",
    "\n",
    "def plot_data_series(title, xs, ys, xlabel, ylabel, legend):\n",
    "    plt.clf()\n",
    "    plt.title(title)\n",
    "    plt.xlabel(xlabel)\n",
    "    plt.ylabel(ylabel)\n",
    "    assert len(xs) == len(ys)\n",
    "    for i in range(len(xs)):\n",
    "        _ = plt.plot(xs[i], ys[i])\n",
    "    plt.legend(legend)\n",
    "    plt.show()"
   ]
  },
  {
   "cell_type": "code",
   "execution_count": null,
   "metadata": {
    "id": "8gAvpqL5RLBC"
   },
   "outputs": [],
   "source": [
    "#Defining Constants\n",
    "h = cons.Planck # Joule-Seconds\n",
    "kb = cons.Boltzmann # Joule / Kelvin\n",
    "c = cons.c # Meters / Second\n",
    "amutokg = 1.66E-27 # Kilograms / Amu\n",
    "evtojoule = 1.602176634E-19 # Joules / Electron-Volt (Coulombs / ElementaryCharge)\n",
    "\n",
    "#Define the diatomic molecule here\n",
    "mass1 = 1.007825 *amutokg\n",
    "mass2 = 34.968853 *amutokg\n",
    "#H=1.007825, D=2.014102, Cl(35)=34.968853, and Cl(37)=36.965903\n",
    "\n",
    "#Define bond strength and temperature\n",
    "k_force = 481 # Newtons/Meter\n",
    "temp = 300 # Kelvin"
   ]
  },
  {
   "cell_type": "markdown",
   "metadata": {
    "id": "-ceJS6QRRLBD"
   },
   "source": [
    "### 'From Physics we know that the vibrational frequency of a harmonic' oscillator is\n",
    "$f = \\frac{1}{2*\\pi}*\\sqrt{k/\\mu}$"
   ]
  },
  {
   "cell_type": "code",
   "execution_count": null,
   "metadata": {
    "colab": {
     "base_uri": "https://localhost:8080/"
    },
    "id": "R3OElVeWRLBD",
    "outputId": "8c44b336-be5f-4feb-a4a5-8b60d8cbefea"
   },
   "outputs": [],
   "source": [
    "#Reduced Mass\n",
    "reduced_mass = lambda m1, m2: (m1*m2)/(m1+m2)\n",
    "\n",
    "#Frequency Function\n",
    "Freq = lambda k_force, mu: np.sqrt(k_force/mu)/(2*cons.pi)\n",
    "\n",
    "#Obtain Frequency\n",
    "freq_vib = Freq(k_force, reduced_mass(mass1, mass2))\n",
    "\n",
    "#Convert Units\n",
    "freq_vib_wvnm = freq_vib/(cons.c*100)\n",
    "\n",
    "print(freq_vib, freq_vib_wvnm)"
   ]
  },
  {
   "cell_type": "markdown",
   "metadata": {
    "id": "1bBNq20Rs-uf"
   },
   "source": [
    "#### From Equation 1 of the text\n",
    "The energy levels of a harmonic oscillator are given by the base frequency and the level number.\n",
    "$$\n",
    "E(\\nu_o, \\nu) = h\\nu_0(\\nu+1/2)\n",
    "$$\n"
   ]
  },
  {
   "cell_type": "code",
   "execution_count": null,
   "metadata": {
    "colab": {
     "base_uri": "https://localhost:8080/"
    },
    "id": "ExAw5gE3RLBE",
    "outputId": "4feab409-ed9b-4a28-bead-e13e7f5ca71a"
   },
   "outputs": [],
   "source": [
    "e_vib_levels = lambda base_freq, level : h*base_freq*(level+0.5)\n",
    "\n",
    "#Lets say we want to see the frequencies of the first 10 energy levels of this oscillator\n",
    "E_levels = e_vib_levels(freq_vib, np.arange(0,10)) #Note that this calls for the frequency in Hz\n",
    "\n",
    "for entry in E_levels:\n",
    "    print(entry/(cons.h*cons.c*100)) #Convert to wavenumbers"
   ]
  },
  {
   "cell_type": "markdown",
   "metadata": {
    "id": "wCIiDkedHdgz"
   },
   "source": [
    "#### From Equation 2 of the text\n",
    "$$\n",
    "E(B_e, J) = \\frac{h^2}{8 \\pi^2 I}J(J+1) = B_eJ(J+1)\n",
    "$$"
   ]
  },
  {
   "cell_type": "code",
   "execution_count": null,
   "metadata": {
    "colab": {
     "base_uri": "https://localhost:8080/"
    },
    "id": "nI8KP72aTtlc",
    "outputId": "2c9fe2f2-f607-45c6-dde1-89d37199cded"
   },
   "outputs": [],
   "source": [
    "#Calculate the rotational part requires defining the internuclear distance r_nuc\n",
    "r_nuc = 1.27E-10 #1.27 angstroms\n",
    "mu = reduced_mass(mass1, mass2)\n",
    "\n",
    "# Since the reduced mass is known, the moment of inertia is readily calculable\n",
    "Moment = lambda r_nuc, mu: mu*(r_nuc**2)\n",
    "mom_I = Moment(r_nuc, mu)\n",
    "\n",
    "#A function that will obtain the value of the coefficient Be\n",
    "fB_e = lambda r_nuc : ((cons.h**2)/(8*(cons.pi**2)*mu*(r_nuc**2)))\n",
    "\n",
    "#A function that will obtain the rotational energy levels\n",
    "e_rot_levels = lambda B_e, level: B_e*(level*(level+1))\n",
    "\n",
    "#Obtain the rotational energy levels\n",
    "E_levels = e_rot_levels(fB_e(r_nuc), np.arange(0,10))\n",
    "\n",
    "#Now lets see the first 10 rotational energies\n",
    "for entry in E_levels:\n",
    "    print(entry/(cons.h*cons.c*100)) #Convert to wavenumbers"
   ]
  },
  {
   "cell_type": "markdown",
   "metadata": {
    "id": "zmdlKfXQTjjB"
   },
   "source": [
    "#### Based on equation 4 on page 417 of the text, The addition of several correctional factors yields a strong expression for the molecule's physical energy levels\n",
    "$$\n",
    " T(\\nu,J) = E_{vib} + E_{rot} + Anharmonicty + Centrifugal + Coupling\n",
    "$$\n",
    "\n",
    "$$\n",
    " T(\\nu,J) = \\nu_e(\\nu+\\frac{1}{2}) + B_eJ(J+1) - \\nu_e\\chi_e(\\nu+\\frac{1}{2})^2 - D_eJ^2(J+1)^2 - \\alpha_e(\\nu+\\frac{1}{2})J(J+1)\n",
    "$$\n",
    "\n",
    "This equation has a total of 5 parameters, thus\n",
    "\n",
    "$$\n",
    "T(\\nu,J) = T(\\nu,J |\\nu_e,\\chi_e,B_e,D_e,\\alpha_e)\n",
    "$$"
   ]
  },
  {
   "cell_type": "code",
   "execution_count": null,
   "metadata": {
    "id": "xMesp58uaObp"
   },
   "outputs": [],
   "source": [
    "T_levels = lambda nu, J, nu_e, chi_e, B_e, D_e, a_e : (nu_e*(nu+0.5)) + B_e*J*(J+1) - nu_e*chi_e*(nu+0.5)**2 - D_e * J**2 * (J+1)**2 - a_e*(nu+0.5)*J*(J+1)"
   ]
  },
  {
   "cell_type": "code",
   "execution_count": null,
   "metadata": {
    "id": "sTxOyMOkbPyy"
   },
   "outputs": [],
   "source": [
    "# Retrieve these values for HCl from NIST, and\n",
    "# generate a matrix of the first 2 vibrational levels, by 25 rotational levels\n",
    "\n",
    "#Parameters\n",
    "nu_e = None\n",
    "chi_e = None\n",
    "B_e = None\n",
    "D_e = None\n",
    "a_e = None\n",
    "\n",
    "#Number of Levels to use\n",
    "nu_max = 2\n",
    "J_max = 25\n",
    "\n",
    "#Obtain the energies\n",
    "levels = np.array([[T_levels(i, j, nu_e, chi_e, B_e, D_e, a_e) for j in range(J_max)] for i in range(nu_max)])"
   ]
  },
  {
   "cell_type": "code",
   "execution_count": null,
   "metadata": {
    "colab": {
     "base_uri": "https://localhost:8080/"
    },
    "id": "LUdscI-_cEJL",
    "outputId": "815302a8-4778-453a-d585-82752c9020f3"
   },
   "outputs": [],
   "source": [
    "levels"
   ]
  },
  {
   "cell_type": "markdown",
   "metadata": {
    "id": "USRCsS1uRLBF"
   },
   "source": [
    "## Boltzmann Distribution\n",
    "The boltzmann distribution assigns a probability to an energy level based on the temperature:\n",
    "$$\n",
    "P_i = e^{\\frac{-E_i}{k_b*Temp}}\n",
    "$$"
   ]
  },
  {
   "cell_type": "code",
   "execution_count": null,
   "metadata": {
    "id": "p2qF8l7xRLBF"
   },
   "outputs": [],
   "source": [
    "boltzmann_prob = lambda energies, temp : np.exp(-1*energies/(cons.Boltzmann*temp))"
   ]
  },
  {
   "cell_type": "markdown",
   "metadata": {
    "id": "bmZrTqRIvnJJ"
   },
   "source": [
    "Populate the energy levels that were previously created with Boltzmann probability."
   ]
  },
  {
   "cell_type": "code",
   "execution_count": null,
   "metadata": {
    "colab": {
     "base_uri": "https://localhost:8080/"
    },
    "id": "SV1LSq0YRLBG",
    "outputId": "f2616cb9-48b1-4d54-ff43-3ceeef689347"
   },
   "outputs": [],
   "source": [
    "#Convert the levels calculated from equation 4 to joules\n",
    "boltzmann_pop = boltzmann_prob(levels*cons.h*cons.c*100, temp)\n",
    "print(boltzmann_pop)"
   ]
  },
  {
   "cell_type": "markdown",
   "metadata": {
    "id": "ShDGus_v5Jwo"
   },
   "source": [
    "### Boltzmann Degeneracy\n",
    "\n",
    "The rigid rotor model utilizes the spherical harmonics in it's solution - creating degeneracy as the levels increase.\\\n",
    "This is just like the degeneracy of electron orbitals!"
   ]
  },
  {
   "cell_type": "code",
   "execution_count": null,
   "metadata": {
    "id": "yNOkKlmw5O8W"
   },
   "outputs": [],
   "source": [
    "#Degeneracy of Rotational Levels is\n",
    "rot_degeneracy = lambda J : 2*J + 1"
   ]
  },
  {
   "cell_type": "code",
   "execution_count": null,
   "metadata": {
    "colab": {
     "base_uri": "https://localhost:8080/"
    },
    "id": "t2XOUxmY5pIZ",
    "outputId": "3cfeb035-6a25-4ce7-9445-a6950722c0bb"
   },
   "outputs": [],
   "source": [
    "#Adjust the populations to account for their degeneracies\n",
    "boltzmann_pop = boltzmann_prob(levels*cons.h*cons.c*100, temp) * rot_degeneracy(np.arange(levels.shape[1]))\n",
    "print(boltzmann_pop)"
   ]
  },
  {
   "cell_type": "code",
   "execution_count": null,
   "metadata": {
    "colab": {
     "base_uri": "https://localhost:8080/"
    },
    "id": "tPPlhGH85eBC",
    "outputId": "72ba03f1-62b0-4139-d8f6-84e1b045477a"
   },
   "outputs": [],
   "source": [
    "# This can be normalized to sum to one, if desired\n",
    "normalized_boltzmann_pop = boltzmann_pop/np.sum(boltzmann_pop)\n",
    "print(normalized_boltzmann_pop, np.sum(normalized_boltzmann_pop))"
   ]
  },
  {
   "cell_type": "code",
   "execution_count": null,
   "metadata": {
    "colab": {
     "base_uri": "https://localhost:8080/"
    },
    "id": "Y-avuuOH5kFt",
    "outputId": "3fa530c6-eae6-4852-9fe2-8018923e78db"
   },
   "outputs": [],
   "source": [
    "print(np.sum(normalized_boltzmann_pop, 1)) #Distribution of vibrational states (summing across rotations))\n",
    "print(np.sum(normalized_boltzmann_pop, 0)) #Distribution of rotational states (summing across vibrations))"
   ]
  },
  {
   "cell_type": "markdown",
   "metadata": {
    "id": "tcfDPlMnRLBJ"
   },
   "source": [
    "## Selection Rules for spectroscopy\n",
    "#### Calculating energy levels is good, but the key to spectra is the transitions between energy levels\n",
    " Here is a summary of the selection rules: \\\n",
    "$\\Delta \\nu$ = +/-1 and $\\Delta J$ = +/-1 $ \\\n",
    "Any transition must satisfy both of these simultaneously\n"
   ]
  },
  {
   "cell_type": "code",
   "execution_count": null,
   "metadata": {
    "colab": {
     "base_uri": "https://localhost:8080/"
    },
    "id": "TMq9wzz4TBAM",
    "outputId": "71195902-7055-437b-f185-ecd3b41684c4"
   },
   "outputs": [],
   "source": [
    "levels"
   ]
  },
  {
   "cell_type": "code",
   "execution_count": null,
   "metadata": {
    "colab": {
     "base_uri": "https://localhost:8080/"
    },
    "id": "6yBtJPyaRLBJ",
    "outputId": "b919175b-ca46-411b-f24f-5de7abcbe3dd"
   },
   "outputs": [],
   "source": [
    "# Typically we are only concerned with vibrational transitions from 0, 1.\n",
    "r_transitions = levels[1,1:] - levels[0,:-1]\n",
    "p_transitions = levels[1,:-1] - levels[0,1:]\n",
    "print(r_transitions)\n",
    "print(p_transitions)\n",
    "print(levels[1,0] - levels[0,0])"
   ]
  },
  {
   "cell_type": "markdown",
   "metadata": {
    "id": "JEPTB-ia4seN"
   },
   "source": [
    "## Generating A Spectrum"
   ]
  },
  {
   "cell_type": "code",
   "execution_count": null,
   "metadata": {
    "colab": {
     "base_uri": "https://localhost:8080/",
     "height": 295
    },
    "id": "BRDep-E141Lt",
    "outputId": "11d3b650-6f38-4a18-91a7-122f4ebd96fa"
   },
   "outputs": [],
   "source": [
    "plt.clf()\n",
    "plt.scatter(np.arange(J_max), levels[1,:] - levels[0,:])\n",
    "plt.scatter(np.arange(1, J_max), p_transitions)\n",
    "plt.scatter(np.arange(J_max -1), r_transitions)\n",
    "plt.legend(['blue_legend_name',\n",
    "            'orange_legend_name',\n",
    "            'green_legend_name'])\n",
    "plt.xlabel('Base J level')\n",
    "plt.ylabel('Transition Energy (wnvm)')\n",
    "plt.title('Figure M')\n",
    "plt.show()"
   ]
  },
  {
   "cell_type": "markdown",
   "metadata": {
    "id": "UxiVJ0v6NJAd"
   },
   "source": [
    "### Description of Generated Spectrum\n",
    "A spectrum will be generated as a sum of gaussians centered at each transition wavelength, with relative heights of the boltzmann weight of their base level.\n",
    "$$\n",
    "f(λ) = W_b e^\\frac{-(λ - λ_0)^2}{2\\sigma^2}\n",
    "$$\n",
    "With σ as an empirical bandwidth parameter."
   ]
  },
  {
   "cell_type": "code",
   "execution_count": null,
   "metadata": {
    "id": "HtuTptLaPczh"
   },
   "outputs": [],
   "source": [
    "#Define a Gaussian\n",
    "Gaussian = lambda x, a, b, c : a*np.exp(-1*(x-b)**2 / (2*c**2))"
   ]
  },
  {
   "cell_type": "code",
   "execution_count": null,
   "metadata": {
    "id": "nax-dyW6Uk1b"
   },
   "outputs": [],
   "source": [
    "#Define Coefficients Wb\n",
    "r_coeffs = normalized_boltzmann_pop[0,:-1] # Values of base levels where dJ += 1 is possible\n",
    "p_coeffs = normalized_boltzmann_pop[0,1:] # Values of base levels where dJ -= 1 is possible"
   ]
  },
  {
   "cell_type": "code",
   "execution_count": null,
   "metadata": {
    "colab": {
     "base_uri": "https://localhost:8080/"
    },
    "id": "Tg6KFZlY4WmC",
    "outputId": "4cd21441-afb6-4e93-b4cf-8a1d244739f7"
   },
   "outputs": [],
   "source": [
    "r_transitions, r_coeffs"
   ]
  },
  {
   "cell_type": "code",
   "execution_count": null,
   "metadata": {
    "colab": {
     "base_uri": "https://localhost:8080/"
    },
    "id": "1yOOpmbNCLIu",
    "outputId": "36bbf1a2-e046-4597-9b88-1faccd609d88"
   },
   "outputs": [],
   "source": [
    "p_transitions, p_coeffs"
   ]
  },
  {
   "cell_type": "code",
   "execution_count": null,
   "metadata": {
    "colab": {
     "base_uri": "https://localhost:8080/",
     "height": 573
    },
    "id": "Q0YfYRroQTVZ",
    "outputId": "19c7fd8b-8d70-430b-df79-5660960ef293"
   },
   "outputs": [],
   "source": [
    "domain = np.linspace(2500,3200,1000)\n",
    "sigma = 2.5\n",
    "\n",
    "r_excitation_data = np.array([[Gaussian(domain, W_b, l_c, sigma) for W_b in r_coeffs] for l_c in r_transitions])\n",
    "p_excitation_data = np.array([[Gaussian(domain, W_b, l_c, sigma) for W_b in p_coeffs] for l_c in p_transitions])\n",
    "\n",
    "excitation_data = []\n",
    "for i in range(r_excitation_data.shape[0]):\n",
    "    excitation_data.append(r_excitation_data[i,i,:])\n",
    "    excitation_data.append(p_excitation_data[i,i,:])\n",
    "excitation_data = np.array(excitation_data)\n",
    "\n",
    "plot_data('TITLE HERE', domain, excitation_data.sum(0), 'Wavelength (wvnm)', 'Qeff')\n",
    "plot_data('TITLE HERE', domain, 1 - excitation_data.sum(0), 'Wavelength (wvnm)', 'Transmittance')"
   ]
  },
  {
   "cell_type": "markdown",
   "metadata": {
    "id": "dxMWjn2gfyXw"
   },
   "source": [
    "## Graph Real Data"
   ]
  },
  {
   "cell_type": "code",
   "execution_count": null,
   "metadata": {
    "colab": {
     "base_uri": "https://localhost:8080/"
    },
    "id": "O7lI8x0Cf2qF",
    "outputId": "15913b11-5f26-4bd2-fcd3-8873b1c6a4aa"
   },
   "outputs": [],
   "source": [
    "#Obtain jcampdx from NIST, a common IR file format at\n",
    "# https://webbook.nist.gov/cgi/cbook.cgi?JCAMP=C7647010&Index=0&Type=IR\n",
    "# Save it to your google drive and point to it here\n",
    "from IPython.testing import test\n",
    "from google.colab import drive\n",
    "drive.mount('/content/drive')\n",
    "##################################################################\n",
    "hcl_jcamp = '/content/drive/MyDrive/7647-01-0-IR.jdx'\n",
    "#%cat $hcl_jcamp"
   ]
  },
  {
   "cell_type": "code",
   "execution_count": null,
   "metadata": {
    "colab": {
     "base_uri": "https://localhost:8080/",
     "height": 34
    },
    "id": "H_60RMD6584D",
    "outputId": "9c71fb5a-b7b1-4861-cdc3-e419546abda4"
   },
   "outputs": [],
   "source": [
    "def get_jcamp_data(jcamp_fn):\n",
    "    with open(jcamp_fn, 'r') as w:\n",
    "        lines = [line[:-1] if line.endswith('\\n') else line for line in w.readlines()]\n",
    "    #print(lines)\n",
    "    data_start = lines.index(\"##XYDATA=(X++(Y..Y))\") + 1\n",
    "    data_end = lines.index(\"##END=\")\n",
    "    #Data is averaged some number of times\n",
    "    data_lines = lines[data_start:data_end]\n",
    "    data = jnp.array([[float(element) for element in line.split(' ')] for line in data_lines])\n",
    "    x_data = data[:,0]\n",
    "    y_data = jnp.average(data[:,1:],1)\n",
    "    return x_data, y_data"
   ]
  },
  {
   "cell_type": "code",
   "execution_count": null,
   "metadata": {
    "colab": {
     "base_uri": "https://localhost:8080/",
     "height": 296
    },
    "id": "ZuhWUG8qdIAP",
    "outputId": "5fac7cac-db37-4836-a1db-6e1b4132534b"
   },
   "outputs": [],
   "source": [
    "# Obtain X and Y data from the jcamp file\n",
    "xs_jcamp, ys_jcamp = get_jcamp_data(hcl_jcamp)\n",
    "# Obtain X and Y data calculate by this notebook\n",
    "xs_calc, ys_calc = domain, 1 - excitation_data.sum(0)\n",
    "\n",
    "# Add code between plt.clf() and plt.show() to display the data from NIST\n",
    "# Use previous plots as an example, make sure there is a title and axis labels\n",
    "# The two sets of data that you should plot are obtained above\n",
    "\n",
    "plt.clf()\n",
    "#your code here\n",
    "plt.show()"
   ]
  },
  {
   "cell_type": "markdown",
   "metadata": {
    "id": "rMwcOsgBw9QN"
   },
   "source": [
    "## Questions"
   ]
  },
  {
   "cell_type": "markdown",
   "metadata": {
    "id": "LvyF-OOSxT9O"
   },
   "source": [
    "### Edit this text cell to write your answers to the following questions below each question.\n",
    "\n",
    "#### Explain the purpose of prefixes like np. and cons.\n",
    "\n",
    "#### Explain the meaning/contribution of each term in the equation for T (from equation 4).\n",
    "\n",
    "#### How does the boltzmann population differ between rotational and vibrational energy levels?  Are either well dispersed/isolated?\n",
    "\n",
    "#### How do we know if we are using enough boltzmann levels to describe the molecular energy landscape?\n",
    "\n",
    "#### Describe the selection rules for spectroscopy and the R and P branches.  Which is higher energy?  Why is there a \"forbidden transition\" between the two branches?\n",
    "\n",
    "#### Describe and explain Figure M.\n",
    "\n",
    "#### This is, principally, a single molecule analysis.  What effects or interactions that we have not described here can occur to a molecule present in a bulk/ensemble?\n",
    "\n",
    "#### How well does this analysis fit/mimick real spectroscopic data?\n",
    "\n",
    "#### At what pressure of HCl was the spectrum from the NIST link taken (the one we all retrieved together)?  What parameters were used in cell 8 of this notebook (the five parameters retrieved from NIST table)?\n",
    "\n",
    "#### What (in your opinion) was the best _assumption_ made in this analysis?\n",
    "\n",
    "#### What (in your opinion) was the worst _assumption_ made in this analysis?\n"
   ]
  },
  {
   "cell_type": "markdown",
   "metadata": {},
   "source": [
    "## Assignment"
   ]
  },
  {
   "cell_type": "markdown",
   "metadata": {},
   "source": [
    "#### Choose a Diatomic Molecule and replicate this analysis\n",
    "#### No two students may use the same molecule.  Post which molecule you will analyze to the discussion on blackboard."
   ]
  }
 ],
 "metadata": {
  "accelerator": "GPU",
  "colab": {
   "provenance": []
  },
  "gpuClass": "standard",
  "kernelspec": {
   "display_name": "Python 3 (ipykernel)",
   "language": "python",
   "name": "python3"
  },
  "language_info": {
   "codemirror_mode": {
    "name": "ipython",
    "version": 3
   },
   "file_extension": ".py",
   "mimetype": "text/x-python",
   "name": "python",
   "nbconvert_exporter": "python",
   "pygments_lexer": "ipython3",
   "version": "3.11.4"
  },
  "widgets": {
   "application/vnd.jupyter.widget-state+json": {
    "067cc8f275f2440786bb2fdbeffdfd06": {
     "model_module": "@jupyter-widgets/controls",
     "model_module_version": "1.5.0",
     "model_name": "FloatProgressModel",
     "state": {
      "_dom_classes": [],
      "_model_module": "@jupyter-widgets/controls",
      "_model_module_version": "1.5.0",
      "_model_name": "FloatProgressModel",
      "_view_count": null,
      "_view_module": "@jupyter-widgets/controls",
      "_view_module_version": "1.5.0",
      "_view_name": "ProgressView",
      "bar_style": "",
      "description": "",
      "description_tooltip": null,
      "layout": "IPY_MODEL_6a4c758bf169475894a08cba898b5146",
      "max": 100,
      "min": 0,
      "orientation": "horizontal",
      "style": "IPY_MODEL_c441851f2fb34db889b24310f408ebb8",
      "value": 0
     }
    },
    "34d25a243c3f4318a14ed2e5448d118b": {
     "model_module": "@jupyter-widgets/controls",
     "model_module_version": "1.5.0",
     "model_name": "DescriptionStyleModel",
     "state": {
      "_model_module": "@jupyter-widgets/controls",
      "_model_module_version": "1.5.0",
      "_model_name": "DescriptionStyleModel",
      "_view_count": null,
      "_view_module": "@jupyter-widgets/base",
      "_view_module_version": "1.2.0",
      "_view_name": "StyleView",
      "description_width": ""
     }
    },
    "4c79c011af84472c87469a462473fdb5": {
     "model_module": "@jupyter-widgets/controls",
     "model_module_version": "1.5.0",
     "model_name": "HTMLModel",
     "state": {
      "_dom_classes": [],
      "_model_module": "@jupyter-widgets/controls",
      "_model_module_version": "1.5.0",
      "_model_name": "HTMLModel",
      "_view_count": null,
      "_view_module": "@jupyter-widgets/controls",
      "_view_module_version": "1.5.0",
      "_view_name": "HTMLView",
      "description": "",
      "description_tooltip": null,
      "layout": "IPY_MODEL_6e4da7f92e324e7eb7aa07db76444132",
      "placeholder": "​",
      "style": "IPY_MODEL_34d25a243c3f4318a14ed2e5448d118b",
      "value": " 0/100 [00:00&lt;?, ?it/s]"
     }
    },
    "4d1b54fccc8a4400ba2a56c7b5d419ec": {
     "model_module": "@jupyter-widgets/base",
     "model_module_version": "1.2.0",
     "model_name": "LayoutModel",
     "state": {
      "_model_module": "@jupyter-widgets/base",
      "_model_module_version": "1.2.0",
      "_model_name": "LayoutModel",
      "_view_count": null,
      "_view_module": "@jupyter-widgets/base",
      "_view_module_version": "1.2.0",
      "_view_name": "LayoutView",
      "align_content": null,
      "align_items": null,
      "align_self": null,
      "border": null,
      "bottom": null,
      "display": null,
      "flex": null,
      "flex_flow": null,
      "grid_area": null,
      "grid_auto_columns": null,
      "grid_auto_flow": null,
      "grid_auto_rows": null,
      "grid_column": null,
      "grid_gap": null,
      "grid_row": null,
      "grid_template_areas": null,
      "grid_template_columns": null,
      "grid_template_rows": null,
      "height": null,
      "justify_content": null,
      "justify_items": null,
      "left": null,
      "margin": null,
      "max_height": null,
      "max_width": null,
      "min_height": null,
      "min_width": null,
      "object_fit": null,
      "object_position": null,
      "order": null,
      "overflow": null,
      "overflow_x": null,
      "overflow_y": null,
      "padding": null,
      "right": null,
      "top": null,
      "visibility": null,
      "width": null
     }
    },
    "6a4c758bf169475894a08cba898b5146": {
     "model_module": "@jupyter-widgets/base",
     "model_module_version": "1.2.0",
     "model_name": "LayoutModel",
     "state": {
      "_model_module": "@jupyter-widgets/base",
      "_model_module_version": "1.2.0",
      "_model_name": "LayoutModel",
      "_view_count": null,
      "_view_module": "@jupyter-widgets/base",
      "_view_module_version": "1.2.0",
      "_view_name": "LayoutView",
      "align_content": null,
      "align_items": null,
      "align_self": null,
      "border": null,
      "bottom": null,
      "display": null,
      "flex": null,
      "flex_flow": null,
      "grid_area": null,
      "grid_auto_columns": null,
      "grid_auto_flow": null,
      "grid_auto_rows": null,
      "grid_column": null,
      "grid_gap": null,
      "grid_row": null,
      "grid_template_areas": null,
      "grid_template_columns": null,
      "grid_template_rows": null,
      "height": null,
      "justify_content": null,
      "justify_items": null,
      "left": null,
      "margin": null,
      "max_height": null,
      "max_width": null,
      "min_height": null,
      "min_width": null,
      "object_fit": null,
      "object_position": null,
      "order": null,
      "overflow": null,
      "overflow_x": null,
      "overflow_y": null,
      "padding": null,
      "right": null,
      "top": null,
      "visibility": null,
      "width": null
     }
    },
    "6e4da7f92e324e7eb7aa07db76444132": {
     "model_module": "@jupyter-widgets/base",
     "model_module_version": "1.2.0",
     "model_name": "LayoutModel",
     "state": {
      "_model_module": "@jupyter-widgets/base",
      "_model_module_version": "1.2.0",
      "_model_name": "LayoutModel",
      "_view_count": null,
      "_view_module": "@jupyter-widgets/base",
      "_view_module_version": "1.2.0",
      "_view_name": "LayoutView",
      "align_content": null,
      "align_items": null,
      "align_self": null,
      "border": null,
      "bottom": null,
      "display": null,
      "flex": null,
      "flex_flow": null,
      "grid_area": null,
      "grid_auto_columns": null,
      "grid_auto_flow": null,
      "grid_auto_rows": null,
      "grid_column": null,
      "grid_gap": null,
      "grid_row": null,
      "grid_template_areas": null,
      "grid_template_columns": null,
      "grid_template_rows": null,
      "height": null,
      "justify_content": null,
      "justify_items": null,
      "left": null,
      "margin": null,
      "max_height": null,
      "max_width": null,
      "min_height": null,
      "min_width": null,
      "object_fit": null,
      "object_position": null,
      "order": null,
      "overflow": null,
      "overflow_x": null,
      "overflow_y": null,
      "padding": null,
      "right": null,
      "top": null,
      "visibility": null,
      "width": null
     }
    },
    "74481165147a433cbd8073db89772e43": {
     "model_module": "@jupyter-widgets/controls",
     "model_module_version": "1.5.0",
     "model_name": "HBoxModel",
     "state": {
      "_dom_classes": [],
      "_model_module": "@jupyter-widgets/controls",
      "_model_module_version": "1.5.0",
      "_model_name": "HBoxModel",
      "_view_count": null,
      "_view_module": "@jupyter-widgets/controls",
      "_view_module_version": "1.5.0",
      "_view_name": "HBoxView",
      "box_style": "",
      "children": [
       "IPY_MODEL_d25b92484e564a6c9f70a570a26258f1",
       "IPY_MODEL_067cc8f275f2440786bb2fdbeffdfd06",
       "IPY_MODEL_4c79c011af84472c87469a462473fdb5"
      ],
      "layout": "IPY_MODEL_4d1b54fccc8a4400ba2a56c7b5d419ec"
     }
    },
    "7db6ddae72ce4cfbbb2046210b8eb707": {
     "model_module": "@jupyter-widgets/controls",
     "model_module_version": "1.5.0",
     "model_name": "DescriptionStyleModel",
     "state": {
      "_model_module": "@jupyter-widgets/controls",
      "_model_module_version": "1.5.0",
      "_model_name": "DescriptionStyleModel",
      "_view_count": null,
      "_view_module": "@jupyter-widgets/base",
      "_view_module_version": "1.2.0",
      "_view_name": "StyleView",
      "description_width": ""
     }
    },
    "ae3491d2427948beb5974c43e353a517": {
     "model_module": "@jupyter-widgets/base",
     "model_module_version": "1.2.0",
     "model_name": "LayoutModel",
     "state": {
      "_model_module": "@jupyter-widgets/base",
      "_model_module_version": "1.2.0",
      "_model_name": "LayoutModel",
      "_view_count": null,
      "_view_module": "@jupyter-widgets/base",
      "_view_module_version": "1.2.0",
      "_view_name": "LayoutView",
      "align_content": null,
      "align_items": null,
      "align_self": null,
      "border": null,
      "bottom": null,
      "display": null,
      "flex": null,
      "flex_flow": null,
      "grid_area": null,
      "grid_auto_columns": null,
      "grid_auto_flow": null,
      "grid_auto_rows": null,
      "grid_column": null,
      "grid_gap": null,
      "grid_row": null,
      "grid_template_areas": null,
      "grid_template_columns": null,
      "grid_template_rows": null,
      "height": null,
      "justify_content": null,
      "justify_items": null,
      "left": null,
      "margin": null,
      "max_height": null,
      "max_width": null,
      "min_height": null,
      "min_width": null,
      "object_fit": null,
      "object_position": null,
      "order": null,
      "overflow": null,
      "overflow_x": null,
      "overflow_y": null,
      "padding": null,
      "right": null,
      "top": null,
      "visibility": null,
      "width": null
     }
    },
    "c441851f2fb34db889b24310f408ebb8": {
     "model_module": "@jupyter-widgets/controls",
     "model_module_version": "1.5.0",
     "model_name": "ProgressStyleModel",
     "state": {
      "_model_module": "@jupyter-widgets/controls",
      "_model_module_version": "1.5.0",
      "_model_name": "ProgressStyleModel",
      "_view_count": null,
      "_view_module": "@jupyter-widgets/base",
      "_view_module_version": "1.2.0",
      "_view_name": "StyleView",
      "bar_color": null,
      "description_width": ""
     }
    },
    "d25b92484e564a6c9f70a570a26258f1": {
     "model_module": "@jupyter-widgets/controls",
     "model_module_version": "1.5.0",
     "model_name": "HTMLModel",
     "state": {
      "_dom_classes": [],
      "_model_module": "@jupyter-widgets/controls",
      "_model_module_version": "1.5.0",
      "_model_name": "HTMLModel",
      "_view_count": null,
      "_view_module": "@jupyter-widgets/controls",
      "_view_module_version": "1.5.0",
      "_view_name": "HTMLView",
      "description": "",
      "description_tooltip": null,
      "layout": "IPY_MODEL_ae3491d2427948beb5974c43e353a517",
      "placeholder": "​",
      "style": "IPY_MODEL_7db6ddae72ce4cfbbb2046210b8eb707",
      "value": "  0%"
     }
    }
   }
  }
 },
 "nbformat": 4,
 "nbformat_minor": 1
}
